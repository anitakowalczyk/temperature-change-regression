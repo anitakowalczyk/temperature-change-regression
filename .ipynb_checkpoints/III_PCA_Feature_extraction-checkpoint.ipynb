{
 "cells": [
  {
   "cell_type": "markdown",
   "metadata": {},
   "source": [
    "### **Principal Component Analysis**  \n",
    "PCA jest jedną z metod redukcji wymiarowości danych, wykorzystywaną m.in. do skracania długości treningu w algorytmach uczania maszynowego oraz do wizualizacji danych.\n"
   ]
  },
  {
   "cell_type": "code",
   "execution_count": 1,
   "metadata": {},
   "outputs": [],
   "source": [
    "import pandas as pd\n",
    "import numpy as np\n",
    "import matplotlib.pyplot as plt\n",
    "from sklearn.decomposition import PCA\n",
    "from sklearn.preprocessing import StandardScaler\n",
    "%matplotlib inline"
   ]
  },
  {
   "cell_type": "markdown",
   "metadata": {},
   "source": [
    "Wczytanie przeformatowanych danych z notatnika \"preprocessing\":"
   ]
  },
  {
   "cell_type": "code",
   "execution_count": 2,
   "metadata": {},
   "outputs": [
    {
     "data": {
      "text/html": [
       "<div>\n",
       "<style scoped>\n",
       "    .dataframe tbody tr th:only-of-type {\n",
       "        vertical-align: middle;\n",
       "    }\n",
       "\n",
       "    .dataframe tbody tr th {\n",
       "        vertical-align: top;\n",
       "    }\n",
       "\n",
       "    .dataframe thead th {\n",
       "        text-align: right;\n",
       "    }\n",
       "</style>\n",
       "<table border=\"1\" class=\"dataframe\">\n",
       "  <thead>\n",
       "    <tr style=\"text-align: right;\">\n",
       "      <th></th>\n",
       "      <th>dt</th>\n",
       "      <th>LandAverageTemperature</th>\n",
       "      <th>LandAverageTemperatureUncertainty</th>\n",
       "      <th>LandMaxTemperature</th>\n",
       "      <th>LandMaxTemperatureUncertainty</th>\n",
       "      <th>LandMinTemperature</th>\n",
       "      <th>LandMinTemperatureUncertainty</th>\n",
       "      <th>LandAndOceanAverageTemperature</th>\n",
       "      <th>LandAndOceanAverageTemperatureUncertainty</th>\n",
       "    </tr>\n",
       "  </thead>\n",
       "  <tbody>\n",
       "    <tr>\n",
       "      <th>0</th>\n",
       "      <td>1750-01-01</td>\n",
       "      <td>-0.515284</td>\n",
       "      <td>-0.0976294</td>\n",
       "      <td>0.0960572</td>\n",
       "      <td>-0.798669</td>\n",
       "      <td>0.0779785</td>\n",
       "      <td>-0.775935</td>\n",
       "      <td>0.0660303</td>\n",
       "      <td>-0.582978</td>\n",
       "    </tr>\n",
       "    <tr>\n",
       "      <th>1</th>\n",
       "      <td>1750-02-01</td>\n",
       "      <td>-0.510639</td>\n",
       "      <td>-0.0650013</td>\n",
       "      <td>0.0960572</td>\n",
       "      <td>-0.798669</td>\n",
       "      <td>0.0779785</td>\n",
       "      <td>-0.775935</td>\n",
       "      <td>0.0660303</td>\n",
       "      <td>-0.582978</td>\n",
       "    </tr>\n",
       "    <tr>\n",
       "      <th>2</th>\n",
       "      <td>1750-03-01</td>\n",
       "      <td>-0.269608</td>\n",
       "      <td>-0.224573</td>\n",
       "      <td>0.0960572</td>\n",
       "      <td>-0.798669</td>\n",
       "      <td>0.0779785</td>\n",
       "      <td>-0.775935</td>\n",
       "      <td>0.0660303</td>\n",
       "      <td>-0.582978</td>\n",
       "    </tr>\n",
       "    <tr>\n",
       "      <th>3</th>\n",
       "      <td>1750-04-01</td>\n",
       "      <td>0.00184825</td>\n",
       "      <td>-0.38389</td>\n",
       "      <td>0.0960572</td>\n",
       "      <td>-0.798669</td>\n",
       "      <td>0.0779785</td>\n",
       "      <td>-0.775935</td>\n",
       "      <td>0.0660303</td>\n",
       "      <td>-0.582978</td>\n",
       "    </tr>\n",
       "    <tr>\n",
       "      <th>4</th>\n",
       "      <td>1750-05-01</td>\n",
       "      <td>0.294062</td>\n",
       "      <td>-0.4805</td>\n",
       "      <td>0.0960572</td>\n",
       "      <td>-0.798669</td>\n",
       "      <td>0.0779785</td>\n",
       "      <td>-0.775935</td>\n",
       "      <td>0.0660303</td>\n",
       "      <td>-0.582978</td>\n",
       "    </tr>\n",
       "  </tbody>\n",
       "</table>\n",
       "</div>"
      ],
      "text/plain": [
       "          dt LandAverageTemperature LandAverageTemperatureUncertainty  \\\n",
       "0 1750-01-01              -0.515284                        -0.0976294   \n",
       "1 1750-02-01              -0.510639                        -0.0650013   \n",
       "2 1750-03-01              -0.269608                         -0.224573   \n",
       "3 1750-04-01             0.00184825                          -0.38389   \n",
       "4 1750-05-01               0.294062                           -0.4805   \n",
       "\n",
       "  LandMaxTemperature LandMaxTemperatureUncertainty LandMinTemperature  \\\n",
       "0          0.0960572                     -0.798669          0.0779785   \n",
       "1          0.0960572                     -0.798669          0.0779785   \n",
       "2          0.0960572                     -0.798669          0.0779785   \n",
       "3          0.0960572                     -0.798669          0.0779785   \n",
       "4          0.0960572                     -0.798669          0.0779785   \n",
       "\n",
       "  LandMinTemperatureUncertainty LandAndOceanAverageTemperature  \\\n",
       "0                     -0.775935                      0.0660303   \n",
       "1                     -0.775935                      0.0660303   \n",
       "2                     -0.775935                      0.0660303   \n",
       "3                     -0.775935                      0.0660303   \n",
       "4                     -0.775935                      0.0660303   \n",
       "\n",
       "  LandAndOceanAverageTemperatureUncertainty  \n",
       "0                                 -0.582978  \n",
       "1                                 -0.582978  \n",
       "2                                 -0.582978  \n",
       "3                                 -0.582978  \n",
       "4                                 -0.582978  "
      ]
     },
     "execution_count": 2,
     "metadata": {},
     "output_type": "execute_result"
    }
   ],
   "source": [
    "%store -r data\n",
    "df = data\n",
    "df.head()"
   ]
  },
  {
   "cell_type": "markdown",
   "metadata": {},
   "source": [
    "#### PCA dla wizualizacji danych :"
   ]
  },
  {
   "cell_type": "markdown",
   "metadata": {},
   "source": [
    "Podział danych na dane do scalenia przez PCA oraz te, które chcemy zachować:"
   ]
  },
  {
   "cell_type": "code",
   "execution_count": 3,
   "metadata": {},
   "outputs": [],
   "source": [
    "features = ['LandMaxTemperature', 'LandMaxTemperatureUncertainty', 'LandMinTemperature', 'LandMinTemperatureUncertainty']"
   ]
  },
  {
   "cell_type": "code",
   "execution_count": 4,
   "metadata": {},
   "outputs": [],
   "source": [
    "# Separating out the features\n",
    "x = df.loc[:, features].values"
   ]
  },
  {
   "cell_type": "code",
   "execution_count": 5,
   "metadata": {},
   "outputs": [],
   "source": [
    "# Separating out the dates\n",
    "y = df.loc[:, 'dt'].values"
   ]
  },
  {
   "cell_type": "code",
   "execution_count": 6,
   "metadata": {},
   "outputs": [
    {
     "data": {
      "text/html": [
       "<div>\n",
       "<style scoped>\n",
       "    .dataframe tbody tr th:only-of-type {\n",
       "        vertical-align: middle;\n",
       "    }\n",
       "\n",
       "    .dataframe tbody tr th {\n",
       "        vertical-align: top;\n",
       "    }\n",
       "\n",
       "    .dataframe thead th {\n",
       "        text-align: right;\n",
       "    }\n",
       "</style>\n",
       "<table border=\"1\" class=\"dataframe\">\n",
       "  <thead>\n",
       "    <tr style=\"text-align: right;\">\n",
       "      <th></th>\n",
       "      <th>LandMaxTemperature</th>\n",
       "      <th>LandMaxTemperatureUncertainty</th>\n",
       "      <th>LandMinTemperature</th>\n",
       "      <th>LandMinTemperatureUncertainty</th>\n",
       "    </tr>\n",
       "  </thead>\n",
       "  <tbody>\n",
       "    <tr>\n",
       "      <th>0</th>\n",
       "      <td>0.0960572</td>\n",
       "      <td>-0.798669</td>\n",
       "      <td>0.0779785</td>\n",
       "      <td>-0.775935</td>\n",
       "    </tr>\n",
       "    <tr>\n",
       "      <th>1</th>\n",
       "      <td>0.0960572</td>\n",
       "      <td>-0.798669</td>\n",
       "      <td>0.0779785</td>\n",
       "      <td>-0.775935</td>\n",
       "    </tr>\n",
       "    <tr>\n",
       "      <th>2</th>\n",
       "      <td>0.0960572</td>\n",
       "      <td>-0.798669</td>\n",
       "      <td>0.0779785</td>\n",
       "      <td>-0.775935</td>\n",
       "    </tr>\n",
       "    <tr>\n",
       "      <th>3</th>\n",
       "      <td>0.0960572</td>\n",
       "      <td>-0.798669</td>\n",
       "      <td>0.0779785</td>\n",
       "      <td>-0.775935</td>\n",
       "    </tr>\n",
       "    <tr>\n",
       "      <th>4</th>\n",
       "      <td>0.0960572</td>\n",
       "      <td>-0.798669</td>\n",
       "      <td>0.0779785</td>\n",
       "      <td>-0.775935</td>\n",
       "    </tr>\n",
       "  </tbody>\n",
       "</table>\n",
       "</div>"
      ],
      "text/plain": [
       "  LandMaxTemperature LandMaxTemperatureUncertainty LandMinTemperature  \\\n",
       "0          0.0960572                     -0.798669          0.0779785   \n",
       "1          0.0960572                     -0.798669          0.0779785   \n",
       "2          0.0960572                     -0.798669          0.0779785   \n",
       "3          0.0960572                     -0.798669          0.0779785   \n",
       "4          0.0960572                     -0.798669          0.0779785   \n",
       "\n",
       "  LandMinTemperatureUncertainty  \n",
       "0                     -0.775935  \n",
       "1                     -0.775935  \n",
       "2                     -0.775935  \n",
       "3                     -0.775935  \n",
       "4                     -0.775935  "
      ]
     },
     "execution_count": 6,
     "metadata": {},
     "output_type": "execute_result"
    }
   ],
   "source": [
    "# representation of the data prepared for to transformation\n",
    "pd.DataFrame(data=x, columns=features).head()"
   ]
  },
  {
   "cell_type": "markdown",
   "metadata": {},
   "source": [
    "#### Przekształcenie danych do postaci dwu-wymiarowej:"
   ]
  },
  {
   "cell_type": "code",
   "execution_count": 7,
   "metadata": {},
   "outputs": [],
   "source": [
    "# creating instance of the model\n",
    "pca = PCA(n_components=2)"
   ]
  },
  {
   "cell_type": "code",
   "execution_count": 8,
   "metadata": {},
   "outputs": [],
   "source": [
    "# merging data and extracting features into principal components\n",
    "principalComponents = pca.fit_transform(x)"
   ]
  },
  {
   "cell_type": "code",
   "execution_count": 9,
   "metadata": {},
   "outputs": [],
   "source": [
    "# fetching primary components into pandas data frame\n",
    "principalDf = pd.DataFrame(data=principalComponents, columns = ['principal comp 1', 'principal comp 2'])"
   ]
  },
  {
   "cell_type": "code",
   "execution_count": 10,
   "metadata": {},
   "outputs": [
    {
     "data": {
      "text/html": [
       "<div>\n",
       "<style scoped>\n",
       "    .dataframe tbody tr th:only-of-type {\n",
       "        vertical-align: middle;\n",
       "    }\n",
       "\n",
       "    .dataframe tbody tr th {\n",
       "        vertical-align: top;\n",
       "    }\n",
       "\n",
       "    .dataframe thead th {\n",
       "        text-align: right;\n",
       "    }\n",
       "</style>\n",
       "<table border=\"1\" class=\"dataframe\">\n",
       "  <thead>\n",
       "    <tr style=\"text-align: right;\">\n",
       "      <th></th>\n",
       "      <th>principal comp 1</th>\n",
       "      <th>principal comp 2</th>\n",
       "    </tr>\n",
       "  </thead>\n",
       "  <tbody>\n",
       "    <tr>\n",
       "      <th>0</th>\n",
       "      <td>-3.983988e-18</td>\n",
       "      <td>2.204070e-15</td>\n",
       "    </tr>\n",
       "    <tr>\n",
       "      <th>1</th>\n",
       "      <td>7.614602e-17</td>\n",
       "      <td>-2.324530e-19</td>\n",
       "    </tr>\n",
       "    <tr>\n",
       "      <th>2</th>\n",
       "      <td>7.601905e-17</td>\n",
       "      <td>7.019189e-17</td>\n",
       "    </tr>\n",
       "    <tr>\n",
       "      <th>3</th>\n",
       "      <td>7.601905e-17</td>\n",
       "      <td>7.018942e-17</td>\n",
       "    </tr>\n",
       "    <tr>\n",
       "      <th>4</th>\n",
       "      <td>7.601905e-17</td>\n",
       "      <td>7.018942e-17</td>\n",
       "    </tr>\n",
       "  </tbody>\n",
       "</table>\n",
       "</div>"
      ],
      "text/plain": [
       "   principal comp 1  principal comp 2\n",
       "0     -3.983988e-18      2.204070e-15\n",
       "1      7.614602e-17     -2.324530e-19\n",
       "2      7.601905e-17      7.019189e-17\n",
       "3      7.601905e-17      7.018942e-17\n",
       "4      7.601905e-17      7.018942e-17"
      ]
     },
     "execution_count": 10,
     "metadata": {},
     "output_type": "execute_result"
    }
   ],
   "source": [
    "principalDf.head(5)"
   ]
  },
  {
   "cell_type": "code",
   "execution_count": 11,
   "metadata": {},
   "outputs": [],
   "source": [
    "# attaching info about measurements dates to marged data\n",
    "finalDf = pd.concat([principalDf, df['dt']], axis = 1)"
   ]
  },
  {
   "cell_type": "code",
   "execution_count": 12,
   "metadata": {},
   "outputs": [],
   "source": [
    "# spliting primary components into groups by months of measurements\n",
    "finalDfByMonths = [group for _,group in finalDf.groupby(finalDf.dt.dt.month)]"
   ]
  },
  {
   "cell_type": "markdown",
   "metadata": {},
   "source": [
    "Wykres przedstawiający rozkład scalonych danych z podziałem na miesiące pomiarów:"
   ]
  },
  {
   "cell_type": "code",
   "execution_count": 13,
   "metadata": {
    "scrolled": false
   },
   "outputs": [
    {
     "data": {
      "image/png": "[encoded data removed]",
      "text/plain": [
       "<Figure size 1152x576 with 1 Axes>"
      ]
     },
     "metadata": {
      "needs_background": "light"
     },
     "output_type": "display_data"
    }
   ],
   "source": [
    "fig = plt.figure(figsize = (16,8))\n",
    "ax = fig.add_subplot(1,1,1) \n",
    "ax.set_xlabel('Principal Component 1', fontsize = 15)\n",
    "ax.set_ylabel('Principal Component 2', fontsize = 15)\n",
    "ax.set_title('2 Component PCA', fontsize = 20)\n",
    "\n",
    "\n",
    "months = ['Jan', 'Feb', 'March', 'April', 'May', 'Jun', 'July', 'Aug', 'Sep', 'Oct', 'Nov', 'Dec']\n",
    "colors = [(0, 'lightblue'), (1, 'aqua'), (2, 'khaki'), (3, 'goldenrod'), (4, 'chartreuse'), (5, 'green'), (6, 'orange'),  \n",
    "          (7, 'red'), (8, 'orchid'), (9, 'pink'), (10, 'plum'), (11, 'blue')]\n",
    "\n",
    "for month, color in colors:\n",
    "    x = finalDfByMonths[month].loc[:,['principal comp 1']]\n",
    "    y = finalDfByMonths[month].loc[:,['principal comp 2']]\n",
    "    ax.scatter(x, y, c = color, s = 50)\n",
    "    \n",
    "ax.legend(months)\n",
    "ax.grid()\n"
   ]
  },
  {
   "cell_type": "code",
   "execution_count": 14,
   "metadata": {},
   "outputs": [
    {
     "data": {
      "text/plain": [
       "array([0.81742085, 0.16805881])"
      ]
     },
     "execution_count": 14,
     "metadata": {},
     "output_type": "execute_result"
    }
   ],
   "source": [
    "# Explained variance inform about variance amount of the primary dataset features could be related to primary components\n",
    "pca.explained_variance_ratio_"
   ]
  },
  {
   "cell_type": "markdown",
   "metadata": {},
   "source": [
    "Principal Component 1 zawiera **~68%** informacji na temat pierwotnych danych  \n",
    "Principal Component 2 zawiera **~15%** informacji na temat pierwotnych danych\n",
    "\n",
    "Łącznie pokrywają ponad **83%** informacji zawartej w zbiorze wejściowym, przy redukcji wymiarowości danych z 8 kolumn (cech) do 2-ówch, redukując liczbę parametrów z 25 536‬ do 6 384 (pomijając infrmacje o datach pomiarów dla obu przypadków)."
   ]
  },
  {
   "cell_type": "markdown",
   "metadata": {},
   "source": [
    "#### PCA dla pszyśpieszenia czasu adaptacji modelu w procesie uczenia:"
   ]
  },
  {
   "cell_type": "markdown",
   "metadata": {},
   "source": [
    "Rozpatrywany zbiór danych nie wydaje się na tyle obszerny, aby przeprowadzenie procesu scalania danych (ograniczania wymiarowości ich cech) był potrzebny, natomiast zostanie on przeprowadzony w ramach eksperymentu, w celu sprawdzenia, jaką część danych można odrzucić, przy zachowaniu stosunkowo wysokiej (95%) informacji na temat ich cech."
   ]
  },
  {
   "cell_type": "code",
   "execution_count": 15,
   "metadata": {},
   "outputs": [
    {
     "data": {
      "text/html": [
       "<div>\n",
       "<style scoped>\n",
       "    .dataframe tbody tr th:only-of-type {\n",
       "        vertical-align: middle;\n",
       "    }\n",
       "\n",
       "    .dataframe tbody tr th {\n",
       "        vertical-align: top;\n",
       "    }\n",
       "\n",
       "    .dataframe thead th {\n",
       "        text-align: right;\n",
       "    }\n",
       "</style>\n",
       "<table border=\"1\" class=\"dataframe\">\n",
       "  <thead>\n",
       "    <tr style=\"text-align: right;\">\n",
       "      <th></th>\n",
       "      <th>dt</th>\n",
       "      <th>LandAverageTemperature</th>\n",
       "      <th>LandAverageTemperatureUncertainty</th>\n",
       "      <th>LandMaxTemperature</th>\n",
       "      <th>LandMaxTemperatureUncertainty</th>\n",
       "      <th>LandMinTemperature</th>\n",
       "      <th>LandMinTemperatureUncertainty</th>\n",
       "      <th>LandAndOceanAverageTemperature</th>\n",
       "      <th>LandAndOceanAverageTemperatureUncertainty</th>\n",
       "    </tr>\n",
       "  </thead>\n",
       "  <tbody>\n",
       "    <tr>\n",
       "      <th>0</th>\n",
       "      <td>1750-01-01</td>\n",
       "      <td>-0.515284</td>\n",
       "      <td>-0.0976294</td>\n",
       "      <td>0.0960572</td>\n",
       "      <td>-0.798669</td>\n",
       "      <td>0.0779785</td>\n",
       "      <td>-0.775935</td>\n",
       "      <td>0.0660303</td>\n",
       "      <td>-0.582978</td>\n",
       "    </tr>\n",
       "    <tr>\n",
       "      <th>1</th>\n",
       "      <td>1750-02-01</td>\n",
       "      <td>-0.510639</td>\n",
       "      <td>-0.0650013</td>\n",
       "      <td>0.0960572</td>\n",
       "      <td>-0.798669</td>\n",
       "      <td>0.0779785</td>\n",
       "      <td>-0.775935</td>\n",
       "      <td>0.0660303</td>\n",
       "      <td>-0.582978</td>\n",
       "    </tr>\n",
       "    <tr>\n",
       "      <th>2</th>\n",
       "      <td>1750-03-01</td>\n",
       "      <td>-0.269608</td>\n",
       "      <td>-0.224573</td>\n",
       "      <td>0.0960572</td>\n",
       "      <td>-0.798669</td>\n",
       "      <td>0.0779785</td>\n",
       "      <td>-0.775935</td>\n",
       "      <td>0.0660303</td>\n",
       "      <td>-0.582978</td>\n",
       "    </tr>\n",
       "    <tr>\n",
       "      <th>3</th>\n",
       "      <td>1750-04-01</td>\n",
       "      <td>0.00184825</td>\n",
       "      <td>-0.38389</td>\n",
       "      <td>0.0960572</td>\n",
       "      <td>-0.798669</td>\n",
       "      <td>0.0779785</td>\n",
       "      <td>-0.775935</td>\n",
       "      <td>0.0660303</td>\n",
       "      <td>-0.582978</td>\n",
       "    </tr>\n",
       "    <tr>\n",
       "      <th>4</th>\n",
       "      <td>1750-05-01</td>\n",
       "      <td>0.294062</td>\n",
       "      <td>-0.4805</td>\n",
       "      <td>0.0960572</td>\n",
       "      <td>-0.798669</td>\n",
       "      <td>0.0779785</td>\n",
       "      <td>-0.775935</td>\n",
       "      <td>0.0660303</td>\n",
       "      <td>-0.582978</td>\n",
       "    </tr>\n",
       "  </tbody>\n",
       "</table>\n",
       "</div>"
      ],
      "text/plain": [
       "          dt LandAverageTemperature LandAverageTemperatureUncertainty  \\\n",
       "0 1750-01-01              -0.515284                        -0.0976294   \n",
       "1 1750-02-01              -0.510639                        -0.0650013   \n",
       "2 1750-03-01              -0.269608                         -0.224573   \n",
       "3 1750-04-01             0.00184825                          -0.38389   \n",
       "4 1750-05-01               0.294062                           -0.4805   \n",
       "\n",
       "  LandMaxTemperature LandMaxTemperatureUncertainty LandMinTemperature  \\\n",
       "0          0.0960572                     -0.798669          0.0779785   \n",
       "1          0.0960572                     -0.798669          0.0779785   \n",
       "2          0.0960572                     -0.798669          0.0779785   \n",
       "3          0.0960572                     -0.798669          0.0779785   \n",
       "4          0.0960572                     -0.798669          0.0779785   \n",
       "\n",
       "  LandMinTemperatureUncertainty LandAndOceanAverageTemperature  \\\n",
       "0                     -0.775935                      0.0660303   \n",
       "1                     -0.775935                      0.0660303   \n",
       "2                     -0.775935                      0.0660303   \n",
       "3                     -0.775935                      0.0660303   \n",
       "4                     -0.775935                      0.0660303   \n",
       "\n",
       "  LandAndOceanAverageTemperatureUncertainty  \n",
       "0                                 -0.582978  \n",
       "1                                 -0.582978  \n",
       "2                                 -0.582978  \n",
       "3                                 -0.582978  \n",
       "4                                 -0.582978  "
      ]
     },
     "execution_count": 15,
     "metadata": {},
     "output_type": "execute_result"
    }
   ],
   "source": [
    "df = data\n",
    "df.head()"
   ]
  },
  {
   "cell_type": "code",
   "execution_count": 24,
   "metadata": {},
   "outputs": [
    {
     "name": "stdout",
     "output_type": "stream",
     "text": [
      "Stored 'principalDf' (DataFrame)\n"
     ]
    },
    {
     "data": {
      "text/html": [
       "<div>\n",
       "<style scoped>\n",
       "    .dataframe tbody tr th:only-of-type {\n",
       "        vertical-align: middle;\n",
       "    }\n",
       "\n",
       "    .dataframe tbody tr th {\n",
       "        vertical-align: top;\n",
       "    }\n",
       "\n",
       "    .dataframe thead th {\n",
       "        text-align: right;\n",
       "    }\n",
       "</style>\n",
       "<table border=\"1\" class=\"dataframe\">\n",
       "  <thead>\n",
       "    <tr style=\"text-align: right;\">\n",
       "      <th></th>\n",
       "      <th>princ_comp_1</th>\n",
       "      <th>princ_comp_2</th>\n",
       "      <th>dt</th>\n",
       "    </tr>\n",
       "  </thead>\n",
       "  <tbody>\n",
       "    <tr>\n",
       "      <th>0</th>\n",
       "      <td>7.601905e-17</td>\n",
       "      <td>7.018942e-17</td>\n",
       "      <td>1750-01-01</td>\n",
       "    </tr>\n",
       "    <tr>\n",
       "      <th>1</th>\n",
       "      <td>7.601905e-17</td>\n",
       "      <td>7.018942e-17</td>\n",
       "      <td>1750-02-01</td>\n",
       "    </tr>\n",
       "    <tr>\n",
       "      <th>2</th>\n",
       "      <td>7.601905e-17</td>\n",
       "      <td>7.018942e-17</td>\n",
       "      <td>1750-03-01</td>\n",
       "    </tr>\n",
       "    <tr>\n",
       "      <th>3</th>\n",
       "      <td>7.601905e-17</td>\n",
       "      <td>7.018942e-17</td>\n",
       "      <td>1750-04-01</td>\n",
       "    </tr>\n",
       "    <tr>\n",
       "      <th>4</th>\n",
       "      <td>7.601905e-17</td>\n",
       "      <td>7.018942e-17</td>\n",
       "      <td>1750-05-01</td>\n",
       "    </tr>\n",
       "  </tbody>\n",
       "</table>\n",
       "</div>"
      ],
      "text/plain": [
       "   princ_comp_1  princ_comp_2         dt\n",
       "0  7.601905e-17  7.018942e-17 1750-01-01\n",
       "1  7.601905e-17  7.018942e-17 1750-02-01\n",
       "2  7.601905e-17  7.018942e-17 1750-03-01\n",
       "3  7.601905e-17  7.018942e-17 1750-04-01\n",
       "4  7.601905e-17  7.018942e-17 1750-05-01"
      ]
     },
     "execution_count": 24,
     "metadata": {},
     "output_type": "execute_result"
    }
   ],
   "source": [
    "features = ['LandMaxTemperature', 'LandMaxTemperatureUncertainty', 'LandMinTemperature', 'LandMinTemperatureUncertainty']\n",
    "x = df.loc[:, features].values\n",
    "y = df.loc[:, 'dt'].values\n",
    "\n",
    "# new instance of the Model\n",
    "pca = PCA(.95)\n",
    "# fitting PCA alghoritm to data\n",
    "pca.fit(x)\n",
    "# transforming data into primary components\n",
    "x = pca.transform(x)\n",
    "\n",
    "principalDf = pd.DataFrame(data=x, columns=['princ_comp_1', 'princ_comp_2'])\n",
    "principalDf = pd.concat([principalDf, df['dt']], axis = 1)\n",
    "%store principalDf\n",
    "principalDf.head()"
   ]
  },
  {
   "cell_type": "markdown",
   "metadata": {},
   "source": [
    "Wnioski :\n",
    "Przy zachowaniu co najmniej 95% infotmacji ilość danych udało się zmniejszyć o połowę:\n",
    "* liczba kolumn : 4 -> 2\\*\n",
    "* liczba parametrów : 12 768 -> 6384\\*  \n",
    "\\* pomijając informacje o datach pomiarów - scalanie dotyczy samych temperatur"
   ]
  },
  {
   "cell_type": "code",
   "execution_count": 25,
   "metadata": {},
   "outputs": [
    {
     "data": {
      "text/plain": [
       "array([0.81742085, 0.16805881])"
      ]
     },
     "execution_count": 25,
     "metadata": {},
     "output_type": "execute_result"
    }
   ],
   "source": [
    "pca.explained_variance_ratio_"
   ]
  },
  {
   "cell_type": "markdown",
   "metadata": {},
   "source": [
    "PCA dla średnich wartości temperatur lądu oraz ich niepewności:"
   ]
  },
  {
   "cell_type": "code",
   "execution_count": 28,
   "metadata": {},
   "outputs": [
    {
     "ename": "TypeError",
     "evalue": "Index(...) must be called with a collection of some kind, 'LandAvarageTemperature' was passed",
     "output_type": "error",
     "traceback": [
      "\u001b[1;31m---------------------------------------------------------------------------\u001b[0m",
      "\u001b[1;31mTypeError\u001b[0m                                 Traceback (most recent call last)",
      "\u001b[1;32m<ipython-input-28-171955aa4c58>\u001b[0m in \u001b[0;36m<module>\u001b[1;34m\u001b[0m\n\u001b[0;32m      3\u001b[0m \u001b[0mpca\u001b[0m\u001b[1;33m.\u001b[0m\u001b[0mfit\u001b[0m\u001b[1;33m(\u001b[0m\u001b[0mprincipalDfAvTemp\u001b[0m\u001b[1;33m)\u001b[0m\u001b[1;33m\u001b[0m\u001b[1;33m\u001b[0m\u001b[0m\n\u001b[0;32m      4\u001b[0m \u001b[0mprincipalDfAvTemp\u001b[0m \u001b[1;33m=\u001b[0m \u001b[0mpca\u001b[0m\u001b[1;33m.\u001b[0m\u001b[0mtransform\u001b[0m\u001b[1;33m(\u001b[0m\u001b[0mprincipalDfAvTemp\u001b[0m\u001b[1;33m)\u001b[0m\u001b[1;33m\u001b[0m\u001b[1;33m\u001b[0m\u001b[0m\n\u001b[1;32m----> 5\u001b[1;33m \u001b[0mprincipalDfAvTemp\u001b[0m \u001b[1;33m=\u001b[0m \u001b[0mpd\u001b[0m\u001b[1;33m.\u001b[0m\u001b[0mDataFrame\u001b[0m\u001b[1;33m(\u001b[0m\u001b[0mdata\u001b[0m\u001b[1;33m=\u001b[0m\u001b[0mprincipalDfAvTemp\u001b[0m\u001b[1;33m,\u001b[0m \u001b[0mcolumns\u001b[0m\u001b[1;33m=\u001b[0m\u001b[1;34m\"LandAvarageTemperature\"\u001b[0m\u001b[1;33m)\u001b[0m\u001b[1;33m\u001b[0m\u001b[1;33m\u001b[0m\u001b[0m\n\u001b[0m\u001b[0;32m      6\u001b[0m \u001b[0mprincipalDfAvTemp\u001b[0m \u001b[1;33m=\u001b[0m \u001b[0mpd\u001b[0m\u001b[1;33m.\u001b[0m\u001b[0mconcat\u001b[0m\u001b[1;33m(\u001b[0m\u001b[1;33m[\u001b[0m\u001b[0mprincipalDfAvTemp\u001b[0m\u001b[1;33m,\u001b[0m \u001b[0mdf\u001b[0m\u001b[1;33m[\u001b[0m\u001b[1;34m'dt'\u001b[0m\u001b[1;33m]\u001b[0m\u001b[1;33m]\u001b[0m\u001b[1;33m,\u001b[0m \u001b[0maxis\u001b[0m \u001b[1;33m=\u001b[0m \u001b[1;36m1\u001b[0m\u001b[1;33m)\u001b[0m\u001b[1;33m\u001b[0m\u001b[1;33m\u001b[0m\u001b[0m\n\u001b[0;32m      7\u001b[0m \u001b[0mget_ipython\u001b[0m\u001b[1;33m(\u001b[0m\u001b[1;33m)\u001b[0m\u001b[1;33m.\u001b[0m\u001b[0mrun_line_magic\u001b[0m\u001b[1;33m(\u001b[0m\u001b[1;34m'store'\u001b[0m\u001b[1;33m,\u001b[0m \u001b[1;34m'principalDfAvTemp'\u001b[0m\u001b[1;33m)\u001b[0m\u001b[1;33m\u001b[0m\u001b[1;33m\u001b[0m\u001b[0m\n",
      "\u001b[1;32mc:\\users\\dtms\\appdata\\local\\programs\\python\\python38\\lib\\site-packages\\pandas\\core\\frame.py\u001b[0m in \u001b[0;36m__init__\u001b[1;34m(self, data, index, columns, dtype, copy)\u001b[0m\n\u001b[0;32m    462\u001b[0m                 \u001b[0mmgr\u001b[0m \u001b[1;33m=\u001b[0m \u001b[0minit_dict\u001b[0m\u001b[1;33m(\u001b[0m\u001b[1;33m{\u001b[0m\u001b[0mdata\u001b[0m\u001b[1;33m.\u001b[0m\u001b[0mname\u001b[0m\u001b[1;33m:\u001b[0m \u001b[0mdata\u001b[0m\u001b[1;33m}\u001b[0m\u001b[1;33m,\u001b[0m \u001b[0mindex\u001b[0m\u001b[1;33m,\u001b[0m \u001b[0mcolumns\u001b[0m\u001b[1;33m,\u001b[0m \u001b[0mdtype\u001b[0m\u001b[1;33m=\u001b[0m\u001b[0mdtype\u001b[0m\u001b[1;33m)\u001b[0m\u001b[1;33m\u001b[0m\u001b[1;33m\u001b[0m\u001b[0m\n\u001b[0;32m    463\u001b[0m             \u001b[1;32melse\u001b[0m\u001b[1;33m:\u001b[0m\u001b[1;33m\u001b[0m\u001b[1;33m\u001b[0m\u001b[0m\n\u001b[1;32m--> 464\u001b[1;33m                 \u001b[0mmgr\u001b[0m \u001b[1;33m=\u001b[0m \u001b[0minit_ndarray\u001b[0m\u001b[1;33m(\u001b[0m\u001b[0mdata\u001b[0m\u001b[1;33m,\u001b[0m \u001b[0mindex\u001b[0m\u001b[1;33m,\u001b[0m \u001b[0mcolumns\u001b[0m\u001b[1;33m,\u001b[0m \u001b[0mdtype\u001b[0m\u001b[1;33m=\u001b[0m\u001b[0mdtype\u001b[0m\u001b[1;33m,\u001b[0m \u001b[0mcopy\u001b[0m\u001b[1;33m=\u001b[0m\u001b[0mcopy\u001b[0m\u001b[1;33m)\u001b[0m\u001b[1;33m\u001b[0m\u001b[1;33m\u001b[0m\u001b[0m\n\u001b[0m\u001b[0;32m    465\u001b[0m \u001b[1;33m\u001b[0m\u001b[0m\n\u001b[0;32m    466\u001b[0m         \u001b[1;31m# For data is list-like, or Iterable (will consume into list)\u001b[0m\u001b[1;33m\u001b[0m\u001b[1;33m\u001b[0m\u001b[1;33m\u001b[0m\u001b[0m\n",
      "\u001b[1;32mc:\\users\\dtms\\appdata\\local\\programs\\python\\python38\\lib\\site-packages\\pandas\\core\\internals\\construction.py\u001b[0m in \u001b[0;36minit_ndarray\u001b[1;34m(values, index, columns, dtype, copy)\u001b[0m\n\u001b[0;32m    179\u001b[0m                 ) from orig\n\u001b[0;32m    180\u001b[0m \u001b[1;33m\u001b[0m\u001b[0m\n\u001b[1;32m--> 181\u001b[1;33m     \u001b[0mindex\u001b[0m\u001b[1;33m,\u001b[0m \u001b[0mcolumns\u001b[0m \u001b[1;33m=\u001b[0m \u001b[0m_get_axes\u001b[0m\u001b[1;33m(\u001b[0m\u001b[1;33m*\u001b[0m\u001b[0mvalues\u001b[0m\u001b[1;33m.\u001b[0m\u001b[0mshape\u001b[0m\u001b[1;33m,\u001b[0m \u001b[0mindex\u001b[0m\u001b[1;33m=\u001b[0m\u001b[0mindex\u001b[0m\u001b[1;33m,\u001b[0m \u001b[0mcolumns\u001b[0m\u001b[1;33m=\u001b[0m\u001b[0mcolumns\u001b[0m\u001b[1;33m)\u001b[0m\u001b[1;33m\u001b[0m\u001b[1;33m\u001b[0m\u001b[0m\n\u001b[0m\u001b[0;32m    182\u001b[0m     \u001b[0mvalues\u001b[0m \u001b[1;33m=\u001b[0m \u001b[0mvalues\u001b[0m\u001b[1;33m.\u001b[0m\u001b[0mT\u001b[0m\u001b[1;33m\u001b[0m\u001b[1;33m\u001b[0m\u001b[0m\n\u001b[0;32m    183\u001b[0m \u001b[1;33m\u001b[0m\u001b[0m\n",
      "\u001b[1;32mc:\\users\\dtms\\appdata\\local\\programs\\python\\python38\\lib\\site-packages\\pandas\\core\\internals\\construction.py\u001b[0m in \u001b[0;36m_get_axes\u001b[1;34m(N, K, index, columns)\u001b[0m\n\u001b[0;32m    427\u001b[0m         \u001b[0mcolumns\u001b[0m \u001b[1;33m=\u001b[0m \u001b[0mibase\u001b[0m\u001b[1;33m.\u001b[0m\u001b[0mdefault_index\u001b[0m\u001b[1;33m(\u001b[0m\u001b[0mK\u001b[0m\u001b[1;33m)\u001b[0m\u001b[1;33m\u001b[0m\u001b[1;33m\u001b[0m\u001b[0m\n\u001b[0;32m    428\u001b[0m     \u001b[1;32melse\u001b[0m\u001b[1;33m:\u001b[0m\u001b[1;33m\u001b[0m\u001b[1;33m\u001b[0m\u001b[0m\n\u001b[1;32m--> 429\u001b[1;33m         \u001b[0mcolumns\u001b[0m \u001b[1;33m=\u001b[0m \u001b[0mensure_index\u001b[0m\u001b[1;33m(\u001b[0m\u001b[0mcolumns\u001b[0m\u001b[1;33m)\u001b[0m\u001b[1;33m\u001b[0m\u001b[1;33m\u001b[0m\u001b[0m\n\u001b[0m\u001b[0;32m    430\u001b[0m     \u001b[1;32mreturn\u001b[0m \u001b[0mindex\u001b[0m\u001b[1;33m,\u001b[0m \u001b[0mcolumns\u001b[0m\u001b[1;33m\u001b[0m\u001b[1;33m\u001b[0m\u001b[0m\n\u001b[0;32m    431\u001b[0m \u001b[1;33m\u001b[0m\u001b[0m\n",
      "\u001b[1;32mc:\\users\\dtms\\appdata\\local\\programs\\python\\python38\\lib\\site-packages\\pandas\\core\\indexes\\base.py\u001b[0m in \u001b[0;36mensure_index\u001b[1;34m(index_like, copy)\u001b[0m\n\u001b[0;32m   5355\u001b[0m             \u001b[0mindex_like\u001b[0m \u001b[1;33m=\u001b[0m \u001b[0mcopy\u001b[0m\u001b[1;33m(\u001b[0m\u001b[0mindex_like\u001b[0m\u001b[1;33m)\u001b[0m\u001b[1;33m\u001b[0m\u001b[1;33m\u001b[0m\u001b[0m\n\u001b[0;32m   5356\u001b[0m \u001b[1;33m\u001b[0m\u001b[0m\n\u001b[1;32m-> 5357\u001b[1;33m     \u001b[1;32mreturn\u001b[0m \u001b[0mIndex\u001b[0m\u001b[1;33m(\u001b[0m\u001b[0mindex_like\u001b[0m\u001b[1;33m)\u001b[0m\u001b[1;33m\u001b[0m\u001b[1;33m\u001b[0m\u001b[0m\n\u001b[0m\u001b[0;32m   5358\u001b[0m \u001b[1;33m\u001b[0m\u001b[0m\n\u001b[0;32m   5359\u001b[0m \u001b[1;33m\u001b[0m\u001b[0m\n",
      "\u001b[1;32mc:\\users\\dtms\\appdata\\local\\programs\\python\\python38\\lib\\site-packages\\pandas\\core\\indexes\\base.py\u001b[0m in \u001b[0;36m__new__\u001b[1;34m(cls, data, dtype, copy, name, tupleize_cols, **kwargs)\u001b[0m\n\u001b[0;32m    420\u001b[0m             \u001b[1;32mreturn\u001b[0m \u001b[0mIndex\u001b[0m\u001b[1;33m(\u001b[0m\u001b[0mnp\u001b[0m\u001b[1;33m.\u001b[0m\u001b[0masarray\u001b[0m\u001b[1;33m(\u001b[0m\u001b[0mdata\u001b[0m\u001b[1;33m)\u001b[0m\u001b[1;33m,\u001b[0m \u001b[0mdtype\u001b[0m\u001b[1;33m=\u001b[0m\u001b[0mdtype\u001b[0m\u001b[1;33m,\u001b[0m \u001b[0mcopy\u001b[0m\u001b[1;33m=\u001b[0m\u001b[0mcopy\u001b[0m\u001b[1;33m,\u001b[0m \u001b[0mname\u001b[0m\u001b[1;33m=\u001b[0m\u001b[0mname\u001b[0m\u001b[1;33m,\u001b[0m \u001b[1;33m**\u001b[0m\u001b[0mkwargs\u001b[0m\u001b[1;33m)\u001b[0m\u001b[1;33m\u001b[0m\u001b[1;33m\u001b[0m\u001b[0m\n\u001b[0;32m    421\u001b[0m         \u001b[1;32melif\u001b[0m \u001b[0mdata\u001b[0m \u001b[1;32mis\u001b[0m \u001b[1;32mNone\u001b[0m \u001b[1;32mor\u001b[0m \u001b[0mis_scalar\u001b[0m\u001b[1;33m(\u001b[0m\u001b[0mdata\u001b[0m\u001b[1;33m)\u001b[0m\u001b[1;33m:\u001b[0m\u001b[1;33m\u001b[0m\u001b[1;33m\u001b[0m\u001b[0m\n\u001b[1;32m--> 422\u001b[1;33m             \u001b[1;32mraise\u001b[0m \u001b[0mcls\u001b[0m\u001b[1;33m.\u001b[0m\u001b[0m_scalar_data_error\u001b[0m\u001b[1;33m(\u001b[0m\u001b[0mdata\u001b[0m\u001b[1;33m)\u001b[0m\u001b[1;33m\u001b[0m\u001b[1;33m\u001b[0m\u001b[0m\n\u001b[0m\u001b[0;32m    423\u001b[0m         \u001b[1;32melse\u001b[0m\u001b[1;33m:\u001b[0m\u001b[1;33m\u001b[0m\u001b[1;33m\u001b[0m\u001b[0m\n\u001b[0;32m    424\u001b[0m             \u001b[1;32mif\u001b[0m \u001b[0mtupleize_cols\u001b[0m \u001b[1;32mand\u001b[0m \u001b[0mis_list_like\u001b[0m\u001b[1;33m(\u001b[0m\u001b[0mdata\u001b[0m\u001b[1;33m)\u001b[0m\u001b[1;33m:\u001b[0m\u001b[1;33m\u001b[0m\u001b[1;33m\u001b[0m\u001b[0m\n",
      "\u001b[1;31mTypeError\u001b[0m: Index(...) must be called with a collection of some kind, 'LandAvarageTemperature' was passed"
     ]
    }
   ],
   "source": [
    "principalDfAvTemp = df.loc[:, ['LandAverageTemperature', 'LandAverageTemperatureUncertainty']].values\n",
    "pca = PCA(n_components=1)\n",
    "pca.fit(principalDfAvTemp)\n",
    "principalDfAvTemp = pca.transform(principalDfAvTemp)\n",
    "principalDfAvTemp = pd.DataFrame(data=principalDfAvTemp, columns=[\"LandAvarageTemperature\"])\n",
    "principalDfAvTemp = pd.concat([principalDfAvTemp, df['dt']], axis = 1)\n",
    "%store principalDfAvTemp\n",
    "principalDfAvTemp.head()"
   ]
  },
  {
   "cell_type": "code",
   "execution_count": 27,
   "metadata": {},
   "outputs": [
    {
     "data": {
      "text/plain": [
       "array([0.71067058])"
      ]
     },
     "execution_count": 27,
     "metadata": {},
     "output_type": "execute_result"
    }
   ],
   "source": [
    "pca.explained_variance_ratio_"
   ]
  },
  {
   "cell_type": "code",
   "execution_count": null,
   "metadata": {},
   "outputs": [],
   "source": []
  },
  {
   "cell_type": "code",
   "execution_count": null,
   "metadata": {},
   "outputs": [],
   "source": []
  }
 ],
 "metadata": {
  "kernelspec": {
   "display_name": "Python 3",
   "language": "python",
   "name": "python3"
  },
  "language_info": {
   "codemirror_mode": {
    "name": "ipython",
    "version": 3
   },
   "file_extension": ".py",
   "mimetype": "text/x-python",
   "name": "python",
   "nbconvert_exporter": "python",
   "pygments_lexer": "ipython3",
   "version": "3.8.2"
  }
 },
 "nbformat": 4,
 "nbformat_minor": 4
}
