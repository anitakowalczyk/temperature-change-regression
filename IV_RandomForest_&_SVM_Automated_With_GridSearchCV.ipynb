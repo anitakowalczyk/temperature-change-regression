{
 "cells": [
  {
   "cell_type": "markdown",
   "metadata": {},
   "source": [
    "Wyabstrachowane ze zbioru danych metodą PCA główne składowe zostaną poddane selekcji z wykorzystaniem algorytmu genetycznego. Zabieg ten ma na celu zoptymalizowanie procesu uczenia, m.in. poprzez dostarczanie jako dane wejściowe algorytmu uczenia maszynowego już gotowego zbioru cech, dzięki czemu możliwie efektywnie wykorzystując jego możliwości do identyfikowania zależności je charakteryzujących oraz estymowania rozwiązania problemu jaki opisują.  "
   ]
  },
  {
   "cell_type": "markdown",
   "metadata": {},
   "source": [
    "**Random Decision Forest** - należy do metod zespołowych uczenia maszynowego, polega na konstruowaniu wielu drzew decyzyjnych w czasie uczenia i generowania klasy, która stanowi przewidywaną średnią poszczególnych drzew (regresja). W rozszerzonej wersji wykorzystuje m.in. agregację bootstrapa. Drzewa decyzyjne wykorzystuje się do eksploracji danych, selekcji cech naistotniejszych oraz odrzcaniu tych mniej ważnych, z racji dużych możliwości adaptacyjnych drzew, nawet dla nieregularnych wzorców, każde z drzew uczy się na inny fragmencie zbioru danych, a wynik uśrednia metodą Lasu losowego, co przekłada się na większą wydajność oraz mniejszą wariancję estymatorów."
   ]
  },
  {
   "cell_type": "markdown",
   "metadata": {},
   "source": [
    "Przygotowanie nieznędnych bibliotek :"
   ]
  },
  {
   "cell_type": "code",
   "execution_count": 1,
   "metadata": {},
   "outputs": [],
   "source": [
    "# data manipulation tools\n",
    "import pandas as pd\n",
    "import numpy as np\n",
    "\n",
    "# Random Forest model\n",
    "from sklearn.ensemble import RandomForestRegressor\n",
    "\n",
    "# Linear Regression model\n",
    "from sklearn.linear_model import LinearRegression\n",
    "\n",
    "# Epsilon-Support Vector Regression\n",
    "from sklearn import svm \n",
    "\n",
    "# model selection\n",
    "from sklearn.model_selection import cross_val_score # perform cross-validation for estimator evaluation\n",
    "from sklearn.model_selection import cross_val_predict # generate cross-validated estimates for each input\n",
    "from sklearn.model_selection import train_test_split # splits arrays/matrices into random train and test subsets\n",
    "from sklearn.model_selection import GridSearchCV # determines estimator paremeters values\n",
    "from sklearn.model_selection import StratifiedKFold # stratified k-fold cross-validator\n",
    "from sklearn.model_selection import KFold # k-fold cross-validator\n",
    "\n",
    "# feature selection based on weights importance\n",
    "from sklearn.feature_selection import SelectFromModel\n",
    "\n",
    "# data preprocessing\n",
    "from sklearn.preprocessing import MinMaxScaler\n",
    "\n",
    "# plots\n",
    "import matplotlib.pyplot as plt\n",
    "\n",
    "# rest\n",
    "import random"
   ]
  },
  {
   "cell_type": "markdown",
   "metadata": {},
   "source": [
    "### ETAP I : SELEKCJA CECH"
   ]
  },
  {
   "cell_type": "markdown",
   "metadata": {},
   "source": [
    "Przygotowanie zbiorów zmiennych niezależnych oraz zależnych:"
   ]
  },
  {
   "cell_type": "code",
   "execution_count": 2,
   "metadata": {},
   "outputs": [],
   "source": [
    "# dependent variables for regression - land av temps\n",
    "%store -r data\n",
    "\n",
    "dependent_vals = pd.DataFrame(data=data.loc[:, ['LandAverageTemperature']].values, columns=['LandAvTemps'])"
   ]
  },
  {
   "cell_type": "code",
   "execution_count": 3,
   "metadata": {},
   "outputs": [
    {
     "data": {
      "text/plain": [
       "(3192, 1)"
      ]
     },
     "execution_count": 3,
     "metadata": {},
     "output_type": "execute_result"
    }
   ],
   "source": [
    "dependent_vals.shape"
   ]
  },
  {
   "cell_type": "code",
   "execution_count": 4,
   "metadata": {},
   "outputs": [
    {
     "data": {
      "text/html": [
       "<div>\n",
       "<style scoped>\n",
       "    .dataframe tbody tr th:only-of-type {\n",
       "        vertical-align: middle;\n",
       "    }\n",
       "\n",
       "    .dataframe tbody tr th {\n",
       "        vertical-align: top;\n",
       "    }\n",
       "\n",
       "    .dataframe thead th {\n",
       "        text-align: right;\n",
       "    }\n",
       "</style>\n",
       "<table border=\"1\" class=\"dataframe\">\n",
       "  <thead>\n",
       "    <tr style=\"text-align: right;\">\n",
       "      <th></th>\n",
       "      <th>LandAvTemps</th>\n",
       "    </tr>\n",
       "  </thead>\n",
       "  <tbody>\n",
       "    <tr>\n",
       "      <th>0</th>\n",
       "      <td>-0.515284</td>\n",
       "    </tr>\n",
       "    <tr>\n",
       "      <th>1</th>\n",
       "      <td>-0.510639</td>\n",
       "    </tr>\n",
       "    <tr>\n",
       "      <th>2</th>\n",
       "      <td>-0.269608</td>\n",
       "    </tr>\n",
       "    <tr>\n",
       "      <th>3</th>\n",
       "      <td>0.00184825</td>\n",
       "    </tr>\n",
       "    <tr>\n",
       "      <th>4</th>\n",
       "      <td>0.294062</td>\n",
       "    </tr>\n",
       "  </tbody>\n",
       "</table>\n",
       "</div>"
      ],
      "text/plain": [
       "  LandAvTemps\n",
       "0   -0.515284\n",
       "1   -0.510639\n",
       "2   -0.269608\n",
       "3  0.00184825\n",
       "4    0.294062"
      ]
     },
     "execution_count": 4,
     "metadata": {},
     "output_type": "execute_result"
    }
   ],
   "source": [
    "dependent_vals.head()"
   ]
  },
  {
   "cell_type": "code",
   "execution_count": 5,
   "metadata": {},
   "outputs": [],
   "source": [
    "# indepentent variables for regression\n",
    "# primary components for min/max temps concatennated with measurements time intervals (days)\n",
    "%store -r principalDf\n",
    "\n",
    "days = []\n",
    "for i in range(dependent_vals.size):\n",
    "    # days with normalization (0-1)\n",
    "    days.append(i/dependent_vals.size)\n",
    "\n",
    "# days = pd.DataFrame(data=days, columns=['days'])\n",
    "# independent_vals = principalDf.loc[:, ['princ_comp_1', 'princ_comp_2']].values\n",
    "# independent_vals = pd.DataFrame(data=independent_vals, columns = ['princ_comp_1', 'princ_comp_2'])\n",
    "# independent_vals = pd.concat([independent_vals, days], axis = 1)\n",
    "\n",
    "days = pd.DataFrame(data=days, columns=['days'])\n",
    "independent_vals = data.loc[:, ['LandMaxTemperature', 'LandMaxTemperatureUncertainty', 'LandMinTemperature', 'LandMinTemperatureUncertainty']].values\n",
    "independent_vals = pd.DataFrame(data=independent_vals, columns = ['LandMaxTemperature', 'LandMaxTemperatureUncertainty', 'LandMinTemperature', 'LandMinTemperatureUncertainty'])\n",
    "independent_vals = pd.concat([independent_vals, days], axis = 1)"
   ]
  },
  {
   "cell_type": "code",
   "execution_count": 6,
   "metadata": {},
   "outputs": [
    {
     "data": {
      "text/plain": [
       "(3192, 5)"
      ]
     },
     "execution_count": 6,
     "metadata": {},
     "output_type": "execute_result"
    }
   ],
   "source": [
    "independent_vals.shape"
   ]
  },
  {
   "cell_type": "code",
   "execution_count": 7,
   "metadata": {},
   "outputs": [
    {
     "data": {
      "text/html": [
       "<div>\n",
       "<style scoped>\n",
       "    .dataframe tbody tr th:only-of-type {\n",
       "        vertical-align: middle;\n",
       "    }\n",
       "\n",
       "    .dataframe tbody tr th {\n",
       "        vertical-align: top;\n",
       "    }\n",
       "\n",
       "    .dataframe thead th {\n",
       "        text-align: right;\n",
       "    }\n",
       "</style>\n",
       "<table border=\"1\" class=\"dataframe\">\n",
       "  <thead>\n",
       "    <tr style=\"text-align: right;\">\n",
       "      <th></th>\n",
       "      <th>LandMaxTemperature</th>\n",
       "      <th>LandMaxTemperatureUncertainty</th>\n",
       "      <th>LandMinTemperature</th>\n",
       "      <th>LandMinTemperatureUncertainty</th>\n",
       "      <th>days</th>\n",
       "    </tr>\n",
       "  </thead>\n",
       "  <tbody>\n",
       "    <tr>\n",
       "      <th>0</th>\n",
       "      <td>0.0960572</td>\n",
       "      <td>-0.798669</td>\n",
       "      <td>0.0779785</td>\n",
       "      <td>-0.775935</td>\n",
       "      <td>0.000000</td>\n",
       "    </tr>\n",
       "    <tr>\n",
       "      <th>1</th>\n",
       "      <td>0.0960572</td>\n",
       "      <td>-0.798669</td>\n",
       "      <td>0.0779785</td>\n",
       "      <td>-0.775935</td>\n",
       "      <td>0.000313</td>\n",
       "    </tr>\n",
       "    <tr>\n",
       "      <th>2</th>\n",
       "      <td>0.0960572</td>\n",
       "      <td>-0.798669</td>\n",
       "      <td>0.0779785</td>\n",
       "      <td>-0.775935</td>\n",
       "      <td>0.000627</td>\n",
       "    </tr>\n",
       "    <tr>\n",
       "      <th>3</th>\n",
       "      <td>0.0960572</td>\n",
       "      <td>-0.798669</td>\n",
       "      <td>0.0779785</td>\n",
       "      <td>-0.775935</td>\n",
       "      <td>0.000940</td>\n",
       "    </tr>\n",
       "    <tr>\n",
       "      <th>4</th>\n",
       "      <td>0.0960572</td>\n",
       "      <td>-0.798669</td>\n",
       "      <td>0.0779785</td>\n",
       "      <td>-0.775935</td>\n",
       "      <td>0.001253</td>\n",
       "    </tr>\n",
       "  </tbody>\n",
       "</table>\n",
       "</div>"
      ],
      "text/plain": [
       "  LandMaxTemperature LandMaxTemperatureUncertainty LandMinTemperature  \\\n",
       "0          0.0960572                     -0.798669          0.0779785   \n",
       "1          0.0960572                     -0.798669          0.0779785   \n",
       "2          0.0960572                     -0.798669          0.0779785   \n",
       "3          0.0960572                     -0.798669          0.0779785   \n",
       "4          0.0960572                     -0.798669          0.0779785   \n",
       "\n",
       "  LandMinTemperatureUncertainty      days  \n",
       "0                     -0.775935  0.000000  \n",
       "1                     -0.775935  0.000313  \n",
       "2                     -0.775935  0.000627  \n",
       "3                     -0.775935  0.000940  \n",
       "4                     -0.775935  0.001253  "
      ]
     },
     "execution_count": 7,
     "metadata": {},
     "output_type": "execute_result"
    }
   ],
   "source": [
    "independent_vals.head()"
   ]
  },
  {
   "cell_type": "markdown",
   "metadata": {},
   "source": [
    "Wydzielenie zbiorów treningowego (x, y) oraz testowego (x_test, y_test):"
   ]
  },
  {
   "cell_type": "code",
   "execution_count": 8,
   "metadata": {},
   "outputs": [],
   "source": [
    "x, x_test, y, y_test = train_test_split(independent_vals, dependent_vals, test_size=0.1, random_state=0)"
   ]
  },
  {
   "cell_type": "code",
   "execution_count": 9,
   "metadata": {},
   "outputs": [
    {
     "data": {
      "text/plain": [
       "((2872, 5), (2872, 1))"
      ]
     },
     "execution_count": 9,
     "metadata": {},
     "output_type": "execute_result"
    }
   ],
   "source": [
    "x.shape, y.shape"
   ]
  },
  {
   "cell_type": "code",
   "execution_count": 10,
   "metadata": {},
   "outputs": [
    {
     "data": {
      "text/html": [
       "<div>\n",
       "<style scoped>\n",
       "    .dataframe tbody tr th:only-of-type {\n",
       "        vertical-align: middle;\n",
       "    }\n",
       "\n",
       "    .dataframe tbody tr th {\n",
       "        vertical-align: top;\n",
       "    }\n",
       "\n",
       "    .dataframe thead th {\n",
       "        text-align: right;\n",
       "    }\n",
       "</style>\n",
       "<table border=\"1\" class=\"dataframe\">\n",
       "  <thead>\n",
       "    <tr style=\"text-align: right;\">\n",
       "      <th></th>\n",
       "      <th>LandMaxTemperature</th>\n",
       "      <th>LandMaxTemperatureUncertainty</th>\n",
       "      <th>LandMinTemperature</th>\n",
       "      <th>LandMinTemperatureUncertainty</th>\n",
       "      <th>days</th>\n",
       "    </tr>\n",
       "  </thead>\n",
       "  <tbody>\n",
       "    <tr>\n",
       "      <th>779</th>\n",
       "      <td>0.0960572</td>\n",
       "      <td>-0.798669</td>\n",
       "      <td>0.0779785</td>\n",
       "      <td>-0.775935</td>\n",
       "      <td>0.244048</td>\n",
       "    </tr>\n",
       "    <tr>\n",
       "      <th>710</th>\n",
       "      <td>0.0960572</td>\n",
       "      <td>-0.798669</td>\n",
       "      <td>0.0779785</td>\n",
       "      <td>-0.775935</td>\n",
       "      <td>0.222431</td>\n",
       "    </tr>\n",
       "    <tr>\n",
       "      <th>983</th>\n",
       "      <td>0.0960572</td>\n",
       "      <td>-0.798669</td>\n",
       "      <td>0.0779785</td>\n",
       "      <td>-0.775935</td>\n",
       "      <td>0.307957</td>\n",
       "    </tr>\n",
       "    <tr>\n",
       "      <th>1961</th>\n",
       "      <td>0.70882</td>\n",
       "      <td>-0.849388</td>\n",
       "      <td>0.596879</td>\n",
       "      <td>-0.815233</td>\n",
       "      <td>0.614348</td>\n",
       "    </tr>\n",
       "    <tr>\n",
       "      <th>3019</th>\n",
       "      <td>0.871855</td>\n",
       "      <td>-0.972742</td>\n",
       "      <td>0.860997</td>\n",
       "      <td>-0.922966</td>\n",
       "      <td>0.945802</td>\n",
       "    </tr>\n",
       "  </tbody>\n",
       "</table>\n",
       "</div>"
      ],
      "text/plain": [
       "     LandMaxTemperature LandMaxTemperatureUncertainty LandMinTemperature  \\\n",
       "779           0.0960572                     -0.798669          0.0779785   \n",
       "710           0.0960572                     -0.798669          0.0779785   \n",
       "983           0.0960572                     -0.798669          0.0779785   \n",
       "1961            0.70882                     -0.849388           0.596879   \n",
       "3019           0.871855                     -0.972742           0.860997   \n",
       "\n",
       "     LandMinTemperatureUncertainty      days  \n",
       "779                      -0.775935  0.244048  \n",
       "710                      -0.775935  0.222431  \n",
       "983                      -0.775935  0.307957  \n",
       "1961                     -0.815233  0.614348  \n",
       "3019                     -0.922966  0.945802  "
      ]
     },
     "execution_count": 10,
     "metadata": {},
     "output_type": "execute_result"
    }
   ],
   "source": [
    "x.head()"
   ]
  },
  {
   "cell_type": "code",
   "execution_count": 11,
   "metadata": {},
   "outputs": [
    {
     "data": {
      "text/html": [
       "<div>\n",
       "<style scoped>\n",
       "    .dataframe tbody tr th:only-of-type {\n",
       "        vertical-align: middle;\n",
       "    }\n",
       "\n",
       "    .dataframe tbody tr th {\n",
       "        vertical-align: top;\n",
       "    }\n",
       "\n",
       "    .dataframe thead th {\n",
       "        text-align: right;\n",
       "    }\n",
       "</style>\n",
       "<table border=\"1\" class=\"dataframe\">\n",
       "  <thead>\n",
       "    <tr style=\"text-align: right;\">\n",
       "      <th></th>\n",
       "      <th>LandAvTemps</th>\n",
       "    </tr>\n",
       "  </thead>\n",
       "  <tbody>\n",
       "    <tr>\n",
       "      <th>779</th>\n",
       "      <td>-0.250367</td>\n",
       "    </tr>\n",
       "    <tr>\n",
       "      <th>710</th>\n",
       "      <td>-0.478224</td>\n",
       "    </tr>\n",
       "    <tr>\n",
       "      <th>983</th>\n",
       "      <td>-0.588171</td>\n",
       "    </tr>\n",
       "    <tr>\n",
       "      <th>1961</th>\n",
       "      <td>0.42979</td>\n",
       "    </tr>\n",
       "    <tr>\n",
       "      <th>3019</th>\n",
       "      <td>0.56457</td>\n",
       "    </tr>\n",
       "  </tbody>\n",
       "</table>\n",
       "</div>"
      ],
      "text/plain": [
       "     LandAvTemps\n",
       "779    -0.250367\n",
       "710    -0.478224\n",
       "983    -0.588171\n",
       "1961     0.42979\n",
       "3019     0.56457"
      ]
     },
     "execution_count": 11,
     "metadata": {},
     "output_type": "execute_result"
    }
   ],
   "source": [
    "y.head()"
   ]
  },
  {
   "cell_type": "code",
   "execution_count": 12,
   "metadata": {},
   "outputs": [
    {
     "data": {
      "text/plain": [
       "((320, 5), (320, 1))"
      ]
     },
     "execution_count": 12,
     "metadata": {},
     "output_type": "execute_result"
    }
   ],
   "source": [
    "x_test.shape, y_test.shape"
   ]
  },
  {
   "cell_type": "code",
   "execution_count": 13,
   "metadata": {},
   "outputs": [
    {
     "data": {
      "text/html": [
       "<div>\n",
       "<style scoped>\n",
       "    .dataframe tbody tr th:only-of-type {\n",
       "        vertical-align: middle;\n",
       "    }\n",
       "\n",
       "    .dataframe tbody tr th {\n",
       "        vertical-align: top;\n",
       "    }\n",
       "\n",
       "    .dataframe thead th {\n",
       "        text-align: right;\n",
       "    }\n",
       "</style>\n",
       "<table border=\"1\" class=\"dataframe\">\n",
       "  <thead>\n",
       "    <tr style=\"text-align: right;\">\n",
       "      <th></th>\n",
       "      <th>LandMaxTemperature</th>\n",
       "      <th>LandMaxTemperatureUncertainty</th>\n",
       "      <th>LandMinTemperature</th>\n",
       "      <th>LandMinTemperatureUncertainty</th>\n",
       "      <th>days</th>\n",
       "    </tr>\n",
       "  </thead>\n",
       "  <tbody>\n",
       "    <tr>\n",
       "      <th>936</th>\n",
       "      <td>0.0960572</td>\n",
       "      <td>-0.798669</td>\n",
       "      <td>0.0779785</td>\n",
       "      <td>-0.775935</td>\n",
       "      <td>0.293233</td>\n",
       "    </tr>\n",
       "    <tr>\n",
       "      <th>1732</th>\n",
       "      <td>0.43048</td>\n",
       "      <td>-0.816586</td>\n",
       "      <td>0.324957</td>\n",
       "      <td>-0.800174</td>\n",
       "      <td>0.542607</td>\n",
       "    </tr>\n",
       "    <tr>\n",
       "      <th>461</th>\n",
       "      <td>0.0960572</td>\n",
       "      <td>-0.798669</td>\n",
       "      <td>0.0779785</td>\n",
       "      <td>-0.775935</td>\n",
       "      <td>0.144424</td>\n",
       "    </tr>\n",
       "    <tr>\n",
       "      <th>480</th>\n",
       "      <td>0.0960572</td>\n",
       "      <td>-0.798669</td>\n",
       "      <td>0.0779785</td>\n",
       "      <td>-0.775935</td>\n",
       "      <td>0.150376</td>\n",
       "    </tr>\n",
       "    <tr>\n",
       "      <th>298</th>\n",
       "      <td>0.0960572</td>\n",
       "      <td>-0.798669</td>\n",
       "      <td>0.0779785</td>\n",
       "      <td>-0.775935</td>\n",
       "      <td>0.093358</td>\n",
       "    </tr>\n",
       "  </tbody>\n",
       "</table>\n",
       "</div>"
      ],
      "text/plain": [
       "     LandMaxTemperature LandMaxTemperatureUncertainty LandMinTemperature  \\\n",
       "936           0.0960572                     -0.798669          0.0779785   \n",
       "1732            0.43048                     -0.816586           0.324957   \n",
       "461           0.0960572                     -0.798669          0.0779785   \n",
       "480           0.0960572                     -0.798669          0.0779785   \n",
       "298           0.0960572                     -0.798669          0.0779785   \n",
       "\n",
       "     LandMinTemperatureUncertainty      days  \n",
       "936                      -0.775935  0.293233  \n",
       "1732                     -0.800174  0.542607  \n",
       "461                      -0.775935  0.144424  \n",
       "480                      -0.775935  0.150376  \n",
       "298                      -0.775935  0.093358  "
      ]
     },
     "execution_count": 13,
     "metadata": {},
     "output_type": "execute_result"
    }
   ],
   "source": [
    "x_test.head()"
   ]
  },
  {
   "cell_type": "code",
   "execution_count": 14,
   "metadata": {},
   "outputs": [
    {
     "data": {
      "text/html": [
       "<div>\n",
       "<style scoped>\n",
       "    .dataframe tbody tr th:only-of-type {\n",
       "        vertical-align: middle;\n",
       "    }\n",
       "\n",
       "    .dataframe tbody tr th {\n",
       "        vertical-align: top;\n",
       "    }\n",
       "\n",
       "    .dataframe thead th {\n",
       "        text-align: right;\n",
       "    }\n",
       "</style>\n",
       "<table border=\"1\" class=\"dataframe\">\n",
       "  <thead>\n",
       "    <tr style=\"text-align: right;\">\n",
       "      <th></th>\n",
       "      <th>LandAvTemps</th>\n",
       "    </tr>\n",
       "  </thead>\n",
       "  <tbody>\n",
       "    <tr>\n",
       "      <th>936</th>\n",
       "      <td>-0.746458</td>\n",
       "    </tr>\n",
       "    <tr>\n",
       "      <th>1732</th>\n",
       "      <td>0.234444</td>\n",
       "    </tr>\n",
       "    <tr>\n",
       "      <th>461</th>\n",
       "      <td>0.5059</td>\n",
       "    </tr>\n",
       "    <tr>\n",
       "      <th>480</th>\n",
       "      <td>-0.571205</td>\n",
       "    </tr>\n",
       "    <tr>\n",
       "      <th>298</th>\n",
       "      <td>-0.515758</td>\n",
       "    </tr>\n",
       "  </tbody>\n",
       "</table>\n",
       "</div>"
      ],
      "text/plain": [
       "     LandAvTemps\n",
       "936    -0.746458\n",
       "1732    0.234444\n",
       "461       0.5059\n",
       "480    -0.571205\n",
       "298    -0.515758"
      ]
     },
     "execution_count": 14,
     "metadata": {},
     "output_type": "execute_result"
    }
   ],
   "source": [
    "y_test.head()"
   ]
  },
  {
   "cell_type": "code",
   "execution_count": 15,
   "metadata": {},
   "outputs": [
    {
     "name": "stdout",
     "output_type": "stream",
     "text": [
      "Fitting 10 folds for each of 32 candidates, totalling 320 fits\n"
     ]
    },
    {
     "name": "stderr",
     "output_type": "stream",
     "text": [
      "[Parallel(n_jobs=-1)]: Using backend LokyBackend with 12 concurrent workers.\n",
      "[Parallel(n_jobs=-1)]: Done  26 tasks      | elapsed:    1.5s\n",
      "[Parallel(n_jobs=-1)]: Done 176 tasks      | elapsed:   16.3s\n",
      "[Parallel(n_jobs=-1)]: Done 320 out of 320 | elapsed:   41.4s finished\n"
     ]
    }
   ],
   "source": [
    "# Perform Grid-Search to find hyperparameters for regression estimator\n",
    "# max_depth refers to tree depth\n",
    "# n_estimators refers to number of threes in forest\n",
    "# cv parameter determines number of folds of providet dataset or cross-validator object\n",
    "gsc_rfr = GridSearchCV(estimator=RandomForestRegressor(), \n",
    "                   param_grid={'max_depth': range(2, 10), 'n_estimators': (10, 50, 100, 1000), },\n",
    "                   cv=KFold(n_splits=10, shuffle=True, random_state=None), scoring='neg_mean_squared_error', \n",
    "                   verbose=1, n_jobs=-1, refit=True, return_train_score=True)\n",
    "\n",
    "# fitting GridSearchCV instance with data to determine best parameters\n",
    "grid_result = gsc_rfr.fit(x.values, y.values.ravel())\n",
    "best_params = grid_result.best_params_"
   ]
  },
  {
   "cell_type": "code",
   "execution_count": 16,
   "metadata": {},
   "outputs": [
    {
     "data": {
      "text/plain": [
       "{'max_depth': 9, 'n_estimators': 1000}"
      ]
     },
     "execution_count": 16,
     "metadata": {},
     "output_type": "execute_result"
    }
   ],
   "source": [
    "# best parameters privided by GridSearchCV\n",
    "best_params"
   ]
  },
  {
   "cell_type": "code",
   "execution_count": 17,
   "metadata": {},
   "outputs": [],
   "source": [
    "# Random Forest Regressor estimator\n",
    "rfr_estimator = RandomForestRegressor(max_depth=best_params[\"max_depth\"], n_estimators=best_params[\"n_estimators\"], \n",
    "                            random_state=False, verbose=0)"
   ]
  },
  {
   "cell_type": "code",
   "execution_count": 18,
   "metadata": {},
   "outputs": [],
   "source": [
    "# Meta-transformer for selecting features based on importance weights\n",
    "selection = SelectFromModel(rfr_estimator)"
   ]
  },
  {
   "cell_type": "code",
   "execution_count": 19,
   "metadata": {
    "scrolled": false
   },
   "outputs": [],
   "source": [
    "# fitting transformer\n",
    "selection.fit(x.values, y.values.ravel())\n",
    "pass"
   ]
  },
  {
   "cell_type": "markdown",
   "metadata": {},
   "source": [
    "Sprawdzenie istotności cech zbioru treningowego (x), True jeśli kolumna ma większą ważność od średniej, False jeśli mniejszą"
   ]
  },
  {
   "cell_type": "code",
   "execution_count": 20,
   "metadata": {},
   "outputs": [
    {
     "data": {
      "text/plain": [
       "array([ True, False,  True, False, False])"
      ]
     },
     "execution_count": 20,
     "metadata": {},
     "output_type": "execute_result"
    }
   ],
   "source": [
    "selection.get_support()"
   ]
  },
  {
   "cell_type": "markdown",
   "metadata": {},
   "source": [
    "Dokładne określenie istotności poszczególnych kolumn:"
   ]
  },
  {
   "cell_type": "code",
   "execution_count": 21,
   "metadata": {},
   "outputs": [
    {
     "data": {
      "text/plain": [
       "array([0.34257683, 0.00074222, 0.59147932, 0.0005972 , 0.06460443])"
      ]
     },
     "execution_count": 21,
     "metadata": {},
     "output_type": "execute_result"
    }
   ],
   "source": [
    "importance = selection.estimator_.feature_importances_\n",
    "importance"
   ]
  },
  {
   "cell_type": "markdown",
   "metadata": {},
   "source": [
    "Obliczenie liczby cech istotnych zbioru (x):"
   ]
  },
  {
   "cell_type": "code",
   "execution_count": 22,
   "metadata": {},
   "outputs": [
    {
     "data": {
      "text/plain": [
       "2"
      ]
     },
     "execution_count": 22,
     "metadata": {},
     "output_type": "execute_result"
    }
   ],
   "source": [
    "selected_features = x.columns[(selection.get_support())]\n",
    "len(selected_features)"
   ]
  },
  {
   "cell_type": "markdown",
   "metadata": {},
   "source": [
    "Wypisanie najistotniejszych cech:"
   ]
  },
  {
   "cell_type": "code",
   "execution_count": 23,
   "metadata": {},
   "outputs": [
    {
     "name": "stdout",
     "output_type": "stream",
     "text": [
      "Index(['LandMaxTemperature', 'LandMinTemperature'], dtype='object')\n"
     ]
    }
   ],
   "source": [
    "print(selected_features)"
   ]
  },
  {
   "cell_type": "markdown",
   "metadata": {},
   "source": [
    "Rozkład wyselekcjonowanych cech:"
   ]
  },
  {
   "cell_type": "code",
   "execution_count": 24,
   "metadata": {},
   "outputs": [],
   "source": [
    "# pd.Series(selection.estimator_.feature_importances_.ravel()).hist()"
   ]
  },
  {
   "cell_type": "code",
   "execution_count": 25,
   "metadata": {},
   "outputs": [
    {
     "name": "stdout",
     "output_type": "stream",
     "text": [
      " 1) LandMinTemperature             0.591479\n",
      " 2) LandMaxTemperature             0.342577\n",
      " 3) days                           0.064604\n",
      " 4) LandMaxTemperatureUncertainty  0.000742\n",
      " 5) LandMinTemperatureUncertainty  0.000597\n"
     ]
    },
    {
     "data": {
      "image/png": "[encoded data removed]",
      "text/plain": [
       "<Figure size 1296x432 with 1 Axes>"
      ]
     },
     "metadata": {
      "needs_background": "light"
     },
     "output_type": "display_data"
    }
   ],
   "source": [
    "indices = np.argsort(importance)[::-1]\n",
    "feat_labels = x.columns[:]\n",
    "for f in range(x.shape[1]):\n",
    "    print(\"%2d) %-*s %f\" % (f + 1, 30,\n",
    "                           feat_labels[indices[f]],\n",
    "                           importance[indices[f]]))\n",
    "\n",
    "plt.figure(figsize=(18,6))\n",
    "plt.title('Features importance')\n",
    "plt.bar(range(x.shape[1]),\n",
    "       importance[indices],\n",
    "       color='lightblue',\n",
    "       align='center')\n",
    "\n",
    "plt.xticks(range(x.shape[1]),\n",
    "         feat_labels[indices], rotation=25)\n",
    "plt.xlim([-1, x.shape[1]])\n",
    "plt.tight_layout\n",
    "plt.show()"
   ]
  },
  {
   "cell_type": "markdown",
   "metadata": {},
   "source": [
    "Wyodrębnienie istotnych cech oraz odrzucenie pozostałych :"
   ]
  },
  {
   "cell_type": "code",
   "execution_count": 26,
   "metadata": {},
   "outputs": [],
   "source": [
    "# slicing out not important features from train dataset\n",
    "features = np.concatenate((np.array(selected_features), np.array(pd.Index(['days']), dtype='object')))\n",
    "x_train = pd.DataFrame(data=x.loc[:, features])\n",
    "x_test = pd.DataFrame(data=x_test.loc[:, features])\n",
    "y_train = y"
   ]
  },
  {
   "cell_type": "code",
   "execution_count": 27,
   "metadata": {},
   "outputs": [
    {
     "data": {
      "text/plain": [
       "((2872, 3), (2872, 1))"
      ]
     },
     "execution_count": 27,
     "metadata": {},
     "output_type": "execute_result"
    }
   ],
   "source": [
    "x_train.shape, y_train.shape"
   ]
  },
  {
   "cell_type": "code",
   "execution_count": 28,
   "metadata": {},
   "outputs": [
    {
     "data": {
      "text/html": [
       "<div>\n",
       "<style scoped>\n",
       "    .dataframe tbody tr th:only-of-type {\n",
       "        vertical-align: middle;\n",
       "    }\n",
       "\n",
       "    .dataframe tbody tr th {\n",
       "        vertical-align: top;\n",
       "    }\n",
       "\n",
       "    .dataframe thead th {\n",
       "        text-align: right;\n",
       "    }\n",
       "</style>\n",
       "<table border=\"1\" class=\"dataframe\">\n",
       "  <thead>\n",
       "    <tr style=\"text-align: right;\">\n",
       "      <th></th>\n",
       "      <th>LandMaxTemperature</th>\n",
       "      <th>LandMinTemperature</th>\n",
       "      <th>days</th>\n",
       "    </tr>\n",
       "  </thead>\n",
       "  <tbody>\n",
       "    <tr>\n",
       "      <th>779</th>\n",
       "      <td>0.0960572</td>\n",
       "      <td>0.0779785</td>\n",
       "      <td>0.244048</td>\n",
       "    </tr>\n",
       "    <tr>\n",
       "      <th>710</th>\n",
       "      <td>0.0960572</td>\n",
       "      <td>0.0779785</td>\n",
       "      <td>0.222431</td>\n",
       "    </tr>\n",
       "    <tr>\n",
       "      <th>983</th>\n",
       "      <td>0.0960572</td>\n",
       "      <td>0.0779785</td>\n",
       "      <td>0.307957</td>\n",
       "    </tr>\n",
       "    <tr>\n",
       "      <th>1961</th>\n",
       "      <td>0.70882</td>\n",
       "      <td>0.596879</td>\n",
       "      <td>0.614348</td>\n",
       "    </tr>\n",
       "    <tr>\n",
       "      <th>3019</th>\n",
       "      <td>0.871855</td>\n",
       "      <td>0.860997</td>\n",
       "      <td>0.945802</td>\n",
       "    </tr>\n",
       "  </tbody>\n",
       "</table>\n",
       "</div>"
      ],
      "text/plain": [
       "     LandMaxTemperature LandMinTemperature      days\n",
       "779           0.0960572          0.0779785  0.244048\n",
       "710           0.0960572          0.0779785  0.222431\n",
       "983           0.0960572          0.0779785  0.307957\n",
       "1961            0.70882           0.596879  0.614348\n",
       "3019           0.871855           0.860997  0.945802"
      ]
     },
     "execution_count": 28,
     "metadata": {},
     "output_type": "execute_result"
    }
   ],
   "source": [
    "x_train.head()"
   ]
  },
  {
   "cell_type": "code",
   "execution_count": 29,
   "metadata": {},
   "outputs": [
    {
     "data": {
      "text/html": [
       "<div>\n",
       "<style scoped>\n",
       "    .dataframe tbody tr th:only-of-type {\n",
       "        vertical-align: middle;\n",
       "    }\n",
       "\n",
       "    .dataframe tbody tr th {\n",
       "        vertical-align: top;\n",
       "    }\n",
       "\n",
       "    .dataframe thead th {\n",
       "        text-align: right;\n",
       "    }\n",
       "</style>\n",
       "<table border=\"1\" class=\"dataframe\">\n",
       "  <thead>\n",
       "    <tr style=\"text-align: right;\">\n",
       "      <th></th>\n",
       "      <th>LandAvTemps</th>\n",
       "    </tr>\n",
       "  </thead>\n",
       "  <tbody>\n",
       "    <tr>\n",
       "      <th>779</th>\n",
       "      <td>-0.250367</td>\n",
       "    </tr>\n",
       "    <tr>\n",
       "      <th>710</th>\n",
       "      <td>-0.478224</td>\n",
       "    </tr>\n",
       "    <tr>\n",
       "      <th>983</th>\n",
       "      <td>-0.588171</td>\n",
       "    </tr>\n",
       "    <tr>\n",
       "      <th>1961</th>\n",
       "      <td>0.42979</td>\n",
       "    </tr>\n",
       "    <tr>\n",
       "      <th>3019</th>\n",
       "      <td>0.56457</td>\n",
       "    </tr>\n",
       "  </tbody>\n",
       "</table>\n",
       "</div>"
      ],
      "text/plain": [
       "     LandAvTemps\n",
       "779    -0.250367\n",
       "710    -0.478224\n",
       "983    -0.588171\n",
       "1961     0.42979\n",
       "3019     0.56457"
      ]
     },
     "execution_count": 29,
     "metadata": {},
     "output_type": "execute_result"
    }
   ],
   "source": [
    "y_train.head()"
   ]
  },
  {
   "cell_type": "markdown",
   "metadata": {},
   "source": [
    "### ETAP II : PREDYCJA Z WYKORZYSTANIEM MODELI REGRESJI LINIOWEJ"
   ]
  },
  {
   "cell_type": "markdown",
   "metadata": {},
   "source": [
    "Szacowanie szukanej wartości średnich temperatur lądu dla wyselekcjonowanych danch z wykorzystaniem modeli regresji statystycznej opartych na konceptach RandomForestRegressor oraz SVM."
   ]
  },
  {
   "cell_type": "markdown",
   "metadata": {},
   "source": [
    "**Random Forest Regressor & GridSearchCV**"
   ]
  },
  {
   "cell_type": "markdown",
   "metadata": {},
   "source": [
    "**TRENING**  \n",
    "Ponowne dostosowanie modelu GridSearchCV do danych z nowo-wyselekcjonowanymi cechami:"
   ]
  },
  {
   "cell_type": "code",
   "execution_count": 30,
   "metadata": {},
   "outputs": [
    {
     "name": "stdout",
     "output_type": "stream",
     "text": [
      "Fitting 10 folds for each of 32 candidates, totalling 320 fits\n"
     ]
    },
    {
     "name": "stderr",
     "output_type": "stream",
     "text": [
      "[Parallel(n_jobs=-1)]: Using backend LokyBackend with 12 concurrent workers.\n",
      "[Parallel(n_jobs=-1)]: Done  28 tasks      | elapsed:    0.4s\n",
      "[Parallel(n_jobs=-1)]: Done 236 tasks      | elapsed:   18.4s\n",
      "[Parallel(n_jobs=-1)]: Done 320 out of 320 | elapsed:   32.9s finished\n"
     ]
    }
   ],
   "source": [
    "# refitting GridSearchCV instance with selected data\n",
    "gsc_rfr.fit(x_train.values, y_train.values.ravel())\n",
    "pass"
   ]
  },
  {
   "cell_type": "code",
   "execution_count": 31,
   "metadata": {},
   "outputs": [
    {
     "data": {
      "text/html": [
       "<div>\n",
       "<style scoped>\n",
       "    .dataframe tbody tr th:only-of-type {\n",
       "        vertical-align: middle;\n",
       "    }\n",
       "\n",
       "    .dataframe tbody tr th {\n",
       "        vertical-align: top;\n",
       "    }\n",
       "\n",
       "    .dataframe thead th {\n",
       "        text-align: right;\n",
       "    }\n",
       "</style>\n",
       "<table border=\"1\" class=\"dataframe\">\n",
       "  <thead>\n",
       "    <tr style=\"text-align: right;\">\n",
       "      <th></th>\n",
       "      <th>mean_fit_time</th>\n",
       "      <th>std_fit_time</th>\n",
       "      <th>mean_score_time</th>\n",
       "      <th>std_score_time</th>\n",
       "      <th>param_max_depth</th>\n",
       "      <th>param_n_estimators</th>\n",
       "      <th>params</th>\n",
       "      <th>split0_test_score</th>\n",
       "      <th>split1_test_score</th>\n",
       "      <th>split2_test_score</th>\n",
       "      <th>...</th>\n",
       "      <th>split2_train_score</th>\n",
       "      <th>split3_train_score</th>\n",
       "      <th>split4_train_score</th>\n",
       "      <th>split5_train_score</th>\n",
       "      <th>split6_train_score</th>\n",
       "      <th>split7_train_score</th>\n",
       "      <th>split8_train_score</th>\n",
       "      <th>split9_train_score</th>\n",
       "      <th>mean_train_score</th>\n",
       "      <th>std_train_score</th>\n",
       "    </tr>\n",
       "  </thead>\n",
       "  <tbody>\n",
       "    <tr>\n",
       "      <th>0</th>\n",
       "      <td>0.023436</td>\n",
       "      <td>0.007815</td>\n",
       "      <td>0.000000</td>\n",
       "      <td>0.000000</td>\n",
       "      <td>2</td>\n",
       "      <td>10</td>\n",
       "      <td>{'max_depth': 2, 'n_estimators': 10}</td>\n",
       "      <td>-0.079568</td>\n",
       "      <td>-0.074747</td>\n",
       "      <td>-0.086226</td>\n",
       "      <td>...</td>\n",
       "      <td>-0.073213</td>\n",
       "      <td>-0.073835</td>\n",
       "      <td>-0.074943</td>\n",
       "      <td>-0.075691</td>\n",
       "      <td>-0.074436</td>\n",
       "      <td>-0.074489</td>\n",
       "      <td>-0.073650</td>\n",
       "      <td>-0.075243</td>\n",
       "      <td>-0.074258</td>\n",
       "      <td>0.000842</td>\n",
       "    </tr>\n",
       "    <tr>\n",
       "      <th>1</th>\n",
       "      <td>0.126554</td>\n",
       "      <td>0.010938</td>\n",
       "      <td>0.003126</td>\n",
       "      <td>0.006251</td>\n",
       "      <td>2</td>\n",
       "      <td>50</td>\n",
       "      <td>{'max_depth': 2, 'n_estimators': 50}</td>\n",
       "      <td>-0.079988</td>\n",
       "      <td>-0.074862</td>\n",
       "      <td>-0.086036</td>\n",
       "      <td>...</td>\n",
       "      <td>-0.073100</td>\n",
       "      <td>-0.073550</td>\n",
       "      <td>-0.074881</td>\n",
       "      <td>-0.075610</td>\n",
       "      <td>-0.074250</td>\n",
       "      <td>-0.074208</td>\n",
       "      <td>-0.073484</td>\n",
       "      <td>-0.074911</td>\n",
       "      <td>-0.074152</td>\n",
       "      <td>0.000759</td>\n",
       "    </tr>\n",
       "    <tr>\n",
       "      <th>2</th>\n",
       "      <td>0.257018</td>\n",
       "      <td>0.012262</td>\n",
       "      <td>0.007813</td>\n",
       "      <td>0.007813</td>\n",
       "      <td>2</td>\n",
       "      <td>100</td>\n",
       "      <td>{'max_depth': 2, 'n_estimators': 100}</td>\n",
       "      <td>-0.080150</td>\n",
       "      <td>-0.074857</td>\n",
       "      <td>-0.085944</td>\n",
       "      <td>...</td>\n",
       "      <td>-0.072966</td>\n",
       "      <td>-0.073493</td>\n",
       "      <td>-0.074771</td>\n",
       "      <td>-0.075623</td>\n",
       "      <td>-0.074252</td>\n",
       "      <td>-0.074131</td>\n",
       "      <td>-0.073513</td>\n",
       "      <td>-0.074872</td>\n",
       "      <td>-0.074105</td>\n",
       "      <td>0.000762</td>\n",
       "    </tr>\n",
       "    <tr>\n",
       "      <th>3</th>\n",
       "      <td>2.499815</td>\n",
       "      <td>0.022398</td>\n",
       "      <td>0.085935</td>\n",
       "      <td>0.007813</td>\n",
       "      <td>2</td>\n",
       "      <td>1000</td>\n",
       "      <td>{'max_depth': 2, 'n_estimators': 1000}</td>\n",
       "      <td>-0.080050</td>\n",
       "      <td>-0.074772</td>\n",
       "      <td>-0.085955</td>\n",
       "      <td>...</td>\n",
       "      <td>-0.072963</td>\n",
       "      <td>-0.073294</td>\n",
       "      <td>-0.074835</td>\n",
       "      <td>-0.075554</td>\n",
       "      <td>-0.074222</td>\n",
       "      <td>-0.074065</td>\n",
       "      <td>-0.073562</td>\n",
       "      <td>-0.075096</td>\n",
       "      <td>-0.074102</td>\n",
       "      <td>0.000798</td>\n",
       "    </tr>\n",
       "    <tr>\n",
       "      <th>4</th>\n",
       "      <td>0.031250</td>\n",
       "      <td>0.000002</td>\n",
       "      <td>0.001563</td>\n",
       "      <td>0.004688</td>\n",
       "      <td>3</td>\n",
       "      <td>10</td>\n",
       "      <td>{'max_depth': 3, 'n_estimators': 10}</td>\n",
       "      <td>-0.077614</td>\n",
       "      <td>-0.072756</td>\n",
       "      <td>-0.083324</td>\n",
       "      <td>...</td>\n",
       "      <td>-0.069802</td>\n",
       "      <td>-0.070183</td>\n",
       "      <td>-0.071786</td>\n",
       "      <td>-0.072655</td>\n",
       "      <td>-0.071352</td>\n",
       "      <td>-0.071165</td>\n",
       "      <td>-0.070432</td>\n",
       "      <td>-0.072161</td>\n",
       "      <td>-0.071059</td>\n",
       "      <td>0.000878</td>\n",
       "    </tr>\n",
       "  </tbody>\n",
       "</table>\n",
       "<p>5 rows × 32 columns</p>\n",
       "</div>"
      ],
      "text/plain": [
       "   mean_fit_time  std_fit_time  mean_score_time  std_score_time  \\\n",
       "0       0.023436      0.007815         0.000000        0.000000   \n",
       "1       0.126554      0.010938         0.003126        0.006251   \n",
       "2       0.257018      0.012262         0.007813        0.007813   \n",
       "3       2.499815      0.022398         0.085935        0.007813   \n",
       "4       0.031250      0.000002         0.001563        0.004688   \n",
       "\n",
       "  param_max_depth param_n_estimators                                  params  \\\n",
       "0               2                 10    {'max_depth': 2, 'n_estimators': 10}   \n",
       "1               2                 50    {'max_depth': 2, 'n_estimators': 50}   \n",
       "2               2                100   {'max_depth': 2, 'n_estimators': 100}   \n",
       "3               2               1000  {'max_depth': 2, 'n_estimators': 1000}   \n",
       "4               3                 10    {'max_depth': 3, 'n_estimators': 10}   \n",
       "\n",
       "   split0_test_score  split1_test_score  split2_test_score  ...  \\\n",
       "0          -0.079568          -0.074747          -0.086226  ...   \n",
       "1          -0.079988          -0.074862          -0.086036  ...   \n",
       "2          -0.080150          -0.074857          -0.085944  ...   \n",
       "3          -0.080050          -0.074772          -0.085955  ...   \n",
       "4          -0.077614          -0.072756          -0.083324  ...   \n",
       "\n",
       "   split2_train_score  split3_train_score  split4_train_score  \\\n",
       "0           -0.073213           -0.073835           -0.074943   \n",
       "1           -0.073100           -0.073550           -0.074881   \n",
       "2           -0.072966           -0.073493           -0.074771   \n",
       "3           -0.072963           -0.073294           -0.074835   \n",
       "4           -0.069802           -0.070183           -0.071786   \n",
       "\n",
       "   split5_train_score  split6_train_score  split7_train_score  \\\n",
       "0           -0.075691           -0.074436           -0.074489   \n",
       "1           -0.075610           -0.074250           -0.074208   \n",
       "2           -0.075623           -0.074252           -0.074131   \n",
       "3           -0.075554           -0.074222           -0.074065   \n",
       "4           -0.072655           -0.071352           -0.071165   \n",
       "\n",
       "   split8_train_score  split9_train_score  mean_train_score  std_train_score  \n",
       "0           -0.073650           -0.075243         -0.074258         0.000842  \n",
       "1           -0.073484           -0.074911         -0.074152         0.000759  \n",
       "2           -0.073513           -0.074872         -0.074105         0.000762  \n",
       "3           -0.073562           -0.075096         -0.074102         0.000798  \n",
       "4           -0.070432           -0.072161         -0.071059         0.000878  \n",
       "\n",
       "[5 rows x 32 columns]"
      ]
     },
     "execution_count": 31,
     "metadata": {},
     "output_type": "execute_result"
    }
   ],
   "source": [
    "# GridSearchCV trainig raport \n",
    "pd.DataFrame(data=gsc_rfr.cv_results_).head()"
   ]
  },
  {
   "cell_type": "markdown",
   "metadata": {},
   "source": [
    "**TEST**  \n",
    "Evaluacja modelu na wcześniej wydzielonych danych testowych:"
   ]
  },
  {
   "cell_type": "code",
   "execution_count": 32,
   "metadata": {},
   "outputs": [
    {
     "data": {
      "text/plain": [
       "-0.06529284387078749"
      ]
     },
     "execution_count": 32,
     "metadata": {},
     "output_type": "execute_result"
    }
   ],
   "source": [
    "# mean negative MAE for the whole test set (no k-fold cross-validation performed)\n",
    "gsc_rfr.score(x_test.values, y_test.values.ravel())"
   ]
  },
  {
   "cell_type": "markdown",
   "metadata": {},
   "source": [
    "Model Predictions:"
   ]
  },
  {
   "cell_type": "code",
   "execution_count": 33,
   "metadata": {},
   "outputs": [
    {
     "data": {
      "text/html": [
       "<div>\n",
       "<style scoped>\n",
       "    .dataframe tbody tr th:only-of-type {\n",
       "        vertical-align: middle;\n",
       "    }\n",
       "\n",
       "    .dataframe tbody tr th {\n",
       "        vertical-align: top;\n",
       "    }\n",
       "\n",
       "    .dataframe thead th {\n",
       "        text-align: right;\n",
       "    }\n",
       "</style>\n",
       "<table border=\"1\" class=\"dataframe\">\n",
       "  <thead>\n",
       "    <tr style=\"text-align: right;\">\n",
       "      <th></th>\n",
       "      <th>predictions</th>\n",
       "    </tr>\n",
       "  </thead>\n",
       "  <tbody>\n",
       "    <tr>\n",
       "      <th>0</th>\n",
       "      <td>-0.053703</td>\n",
       "    </tr>\n",
       "    <tr>\n",
       "      <th>1</th>\n",
       "      <td>0.226826</td>\n",
       "    </tr>\n",
       "    <tr>\n",
       "      <th>2</th>\n",
       "      <td>-0.017566</td>\n",
       "    </tr>\n",
       "    <tr>\n",
       "      <th>3</th>\n",
       "      <td>-0.031830</td>\n",
       "    </tr>\n",
       "    <tr>\n",
       "      <th>4</th>\n",
       "      <td>-0.008772</td>\n",
       "    </tr>\n",
       "  </tbody>\n",
       "</table>\n",
       "</div>"
      ],
      "text/plain": [
       "   predictions\n",
       "0    -0.053703\n",
       "1     0.226826\n",
       "2    -0.017566\n",
       "3    -0.031830\n",
       "4    -0.008772"
      ]
     },
     "execution_count": 33,
     "metadata": {},
     "output_type": "execute_result"
    }
   ],
   "source": [
    "pd.DataFrame(data=gsc_rfr.predict(x_test.values), columns=['predictions']).head()"
   ]
  },
  {
   "cell_type": "code",
   "execution_count": 34,
   "metadata": {},
   "outputs": [
    {
     "data": {
      "image/png": "[encoded data removed]",
      "text/plain": [
       "<Figure size 1296x576 with 1 Axes>"
      ]
     },
     "metadata": {
      "needs_background": "light"
     },
     "output_type": "display_data"
    }
   ],
   "source": [
    "fig, ax = plt.subplots(figsize=(18,8))\n",
    "ax.scatter(y_test, gsc_rfr.predict(x_test.values), edgecolors='r')\n",
    "ax.plot([y_test.min(), y_test.max()], [y_test.min(), y_test.max()], 'k--', lw=4, color='c')\n",
    "ax.set_xlabel('Measured')\n",
    "ax.set_ylabel('Predicted RFR')\n",
    "plt.show()"
   ]
  },
  {
   "cell_type": "markdown",
   "metadata": {},
   "source": [
    "**Support Vector Machine & GridSearchCV**"
   ]
  },
  {
   "cell_type": "markdown",
   "metadata": {},
   "source": [
    "Utworzenie instancji GridSearchCV dla modelu SVM oraz optymalizacja hiperparametrów."
   ]
  },
  {
   "cell_type": "code",
   "execution_count": 35,
   "metadata": {},
   "outputs": [],
   "source": [
    "# Perform Grid-Search to find hyperparameters for SVM regression estimator\n",
    "gsc_svm = GridSearchCV(estimator=svm.SVR(), \n",
    "                   param_grid={'C': [0.1,1, 10, 100], 'gamma': [1,0.1,0.01,0.001],\n",
    "                               'kernel': ['rbf', 'poly', 'sigmoid'], 'epsilon': [0.1,0.15,0.2,0.25,0.3],\n",
    "                              'max_iter': [100, 1000, 10000, 100000, 1000000]},\n",
    "                       cv=KFold(n_splits=10, shuffle=True, random_state=None), scoring='neg_mean_squared_error', \n",
    "                       verbose=1, n_jobs=-1, refit=True, return_train_score=True)"
   ]
  },
  {
   "cell_type": "markdown",
   "metadata": {},
   "source": [
    "**TRENING**"
   ]
  },
  {
   "cell_type": "code",
   "execution_count": 36,
   "metadata": {},
   "outputs": [
    {
     "name": "stdout",
     "output_type": "stream",
     "text": [
      "Fitting 10 folds for each of 1200 candidates, totalling 12000 fits\n"
     ]
    },
    {
     "name": "stderr",
     "output_type": "stream",
     "text": [
      "[Parallel(n_jobs=-1)]: Using backend LokyBackend with 12 concurrent workers.\n",
      "[Parallel(n_jobs=-1)]: Done  28 tasks      | elapsed:    0.5s\n",
      "[Parallel(n_jobs=-1)]: Done 328 tasks      | elapsed:    6.2s\n",
      "[Parallel(n_jobs=-1)]: Done 828 tasks      | elapsed:   17.0s\n",
      "[Parallel(n_jobs=-1)]: Done 1528 tasks      | elapsed:   30.4s\n",
      "[Parallel(n_jobs=-1)]: Done 2428 tasks      | elapsed:   46.5s\n",
      "[Parallel(n_jobs=-1)]: Done 3528 tasks      | elapsed:  1.1min\n",
      "[Parallel(n_jobs=-1)]: Done 4828 tasks      | elapsed:  1.4min\n",
      "[Parallel(n_jobs=-1)]: Done 6248 tasks      | elapsed:  1.8min\n",
      "[Parallel(n_jobs=-1)]: Done 7212 tasks      | elapsed:  2.1min\n",
      "[Parallel(n_jobs=-1)]: Done 9112 tasks      | elapsed:  2.6min\n",
      "[Parallel(n_jobs=-1)]: Done 10516 tasks      | elapsed:  3.2min\n",
      "[Parallel(n_jobs=-1)]: Done 12000 out of 12000 | elapsed:  3.6min finished\n"
     ]
    }
   ],
   "source": [
    "# fitting GridSearchCV instance for SVM with selected data\n",
    "grid_result = gsc_svm.fit(x_train.values, y_train.values.ravel())"
   ]
  },
  {
   "cell_type": "code",
   "execution_count": 37,
   "metadata": {},
   "outputs": [
    {
     "ename": "NameError",
     "evalue": "name 'gsc_rnr' is not defined",
     "output_type": "error",
     "traceback": [
      "\u001b[1;31m---------------------------------------------------------------------------\u001b[0m",
      "\u001b[1;31mNameError\u001b[0m                                 Traceback (most recent call last)",
      "\u001b[1;32m<ipython-input-37-7724ce1b146a>\u001b[0m in \u001b[0;36m<module>\u001b[1;34m\u001b[0m\n\u001b[0;32m      1\u001b[0m \u001b[1;31m# GridSearchCV trainig raport\u001b[0m\u001b[1;33m\u001b[0m\u001b[1;33m\u001b[0m\u001b[1;33m\u001b[0m\u001b[0m\n\u001b[1;32m----> 2\u001b[1;33m \u001b[0mpd\u001b[0m\u001b[1;33m.\u001b[0m\u001b[0mDataFrame\u001b[0m\u001b[1;33m(\u001b[0m\u001b[0mdata\u001b[0m\u001b[1;33m=\u001b[0m\u001b[0mgsc_rnr\u001b[0m\u001b[1;33m.\u001b[0m\u001b[0mcv_results_\u001b[0m\u001b[1;33m)\u001b[0m\u001b[1;33m.\u001b[0m\u001b[0mhead\u001b[0m\u001b[1;33m(\u001b[0m\u001b[1;33m)\u001b[0m\u001b[1;33m\u001b[0m\u001b[1;33m\u001b[0m\u001b[0m\n\u001b[0m",
      "\u001b[1;31mNameError\u001b[0m: name 'gsc_rnr' is not defined"
     ]
    }
   ],
   "source": [
    "# GridSearchCV trainig raport \n",
    "pd.DataFrame(data=gsc_rnr.cv_results_).head()"
   ]
  },
  {
   "cell_type": "markdown",
   "metadata": {},
   "source": [
    "**TEST**"
   ]
  },
  {
   "cell_type": "code",
   "execution_count": null,
   "metadata": {},
   "outputs": [],
   "source": [
    "# mean negative MAE for the whole test set (no k-fold cross-validation performed)\n",
    "gsc_svm.score(x_test.values, y_test.values.ravel())"
   ]
  },
  {
   "cell_type": "code",
   "execution_count": null,
   "metadata": {},
   "outputs": [],
   "source": [
    "pd.DataFrame(data=gsc_svm.predict(x_test.values), columns=['predictions']).head()"
   ]
  },
  {
   "cell_type": "code",
   "execution_count": null,
   "metadata": {},
   "outputs": [],
   "source": [
    "fig, ax = plt.subplots(figsize=(18, 8))\n",
    "ax.scatter(y_test, gsc_svm.predict(x_test), edgecolors='r')\n",
    "ax.plot([y_test.min(), y_test.max()], [y_test.min(), y_test.max()], 'k--', lw=4, color='c')\n",
    "ax.set_xlabel('Measured')\n",
    "ax.set_ylabel('Predicted SVM')\n",
    "plt.show()"
   ]
  },
  {
   "cell_type": "markdown",
   "metadata": {},
   "source": [
    "### ETAP III : Analiza uzyskanych wyników:"
   ]
  },
  {
   "cell_type": "markdown",
   "metadata": {},
   "source": [
    "Prezentacja graficzna uzyskanych wyników:"
   ]
  },
  {
   "cell_type": "code",
   "execution_count": null,
   "metadata": {},
   "outputs": [],
   "source": [
    "import seaborn as sns"
   ]
  },
  {
   "cell_type": "markdown",
   "metadata": {},
   "source": [
    "Zestawienie predykcji z wartościami oczekiwanymi dla RNR:"
   ]
  },
  {
   "cell_type": "code",
   "execution_count": null,
   "metadata": {},
   "outputs": [],
   "source": [
    "sns.pairplot(pd.concat([y_test, \n",
    "                        pd.DataFrame(data=gsc_rnr.predict(x_test), columns=['predictions_rnr'])],\n",
    "                       axis = 1), palette='Dark2')"
   ]
  },
  {
   "cell_type": "markdown",
   "metadata": {},
   "source": [
    "Zestawienie predykcji z wartościami oczekiwanymi dla SVM:"
   ]
  },
  {
   "cell_type": "code",
   "execution_count": null,
   "metadata": {},
   "outputs": [],
   "source": [
    "sns.pairplot(pd.concat([y_test, \n",
    "                        pd.DataFrame(data=gsc_svm.predict(x_test), columns=['predictions_svm'])],\n",
    "                       axis = 1), palette='Dark2')"
   ]
  },
  {
   "cell_type": "markdown",
   "metadata": {},
   "source": [
    "Przedstawienie zależności między wartościami zmiennych niezależnych zbioru testowego (x_test), a wartościami uzyskanych  predykcji dla RNR :"
   ]
  },
  {
   "cell_type": "code",
   "execution_count": null,
   "metadata": {},
   "outputs": [],
   "source": [
    "sns.pairplot(pd.concat([x_test, \n",
    "                        pd.DataFrame(data=gsc_rnr.predict(x_test), columns=['predictions_rnr'])],\n",
    "                       axis = 1), palette='Dark2')"
   ]
  },
  {
   "cell_type": "markdown",
   "metadata": {},
   "source": [
    "Przedstawienie zależności między wartościami zmiennych niezależnych zbioru testowego (x_test), a wartościami uzyskanych predykcji dla SVM :"
   ]
  },
  {
   "cell_type": "code",
   "execution_count": null,
   "metadata": {},
   "outputs": [],
   "source": [
    "sns.pairplot(pd.concat([x_test, \n",
    "                        pd.DataFrame(data=gsc_svm.predict(x_test), columns=['predictions_svm'])],\n",
    "                       axis = 1), palette='Dark2')"
   ]
  },
  {
   "cell_type": "markdown",
   "metadata": {},
   "source": [
    "Przedstawienie zależności między wartościami zmiennych niezależnych zbioru testowego (x_test), a wartościami oczekiwanymi zmiennej niezależnej (y_test):"
   ]
  },
  {
   "cell_type": "code",
   "execution_count": null,
   "metadata": {},
   "outputs": [],
   "source": [
    "sns.pairplot(pd.concat([x_test, y_test], axis = 1), palette='Dark2')"
   ]
  }
 ],
 "metadata": {
  "kernelspec": {
   "display_name": "Python 3",
   "language": "python",
   "name": "python3"
  },
  "language_info": {
   "codemirror_mode": {
    "name": "ipython",
    "version": 3
   },
   "file_extension": ".py",
   "mimetype": "text/x-python",
   "name": "python",
   "nbconvert_exporter": "python",
   "pygments_lexer": "ipython3",
   "version": "3.8.2"
  }
 },
 "nbformat": 4,
 "nbformat_minor": 4
}
